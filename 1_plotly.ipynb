{
 "cells": [
  {
   "cell_type": "code",
   "execution_count": 1,
   "metadata": {},
   "outputs": [
    {
     "data": {
      "text/html": [
       "<script>requirejs.config({paths: { 'plotly': ['https://cdn.plot.ly/plotly-latest.min']},});if(!window.Plotly) {{require(['plotly'],function(plotly) {window.Plotly=plotly;});}}</script>"
      ],
      "text/vnd.plotly.v1+html": [
       "<script>requirejs.config({paths: { 'plotly': ['https://cdn.plot.ly/plotly-latest.min']},});if(!window.Plotly) {{require(['plotly'],function(plotly) {window.Plotly=plotly;});}}</script>"
      ]
     },
     "metadata": {},
     "output_type": "display_data"
    }
   ],
   "source": [
    "import pandas as pd\n",
    "import numpy as np\n",
    "import scipy as sp\n",
    "import plotly.plotly as py\n",
    "\n",
    "import plotly.figure_factory as ff\n",
    "\n",
    "from plotly.offline import download_plotlyjs, init_notebook_mode, plot, iplot\n",
    "init_notebook_mode(connected=True)\n",
    "\n",
    "import plotly.graph_objs as go"
   ]
  },
  {
   "cell_type": "code",
   "execution_count": 3,
   "metadata": {},
   "outputs": [
    {
     "data": {
      "application/vnd.plotly.v1+json": {
       "data": [
        {
         "type": "scatter",
         "uid": "7664e9fa-fe2b-11e8-b710-c49ded18145b",
         "x": [
          1,
          2,
          3
         ],
         "y": [
          3,
          1,
          6
         ]
        }
       ],
       "layout": {}
      },
      "text/html": [
       "<div id=\"a5c25bae-9646-4180-b769-7d6f5ef82362\" style=\"height: 525px; width: 100%;\" class=\"plotly-graph-div\"></div><script type=\"text/javascript\">require([\"plotly\"], function(Plotly) { window.PLOTLYENV=window.PLOTLYENV || {};window.PLOTLYENV.BASE_URL=\"https://plot.ly\";Plotly.newPlot(\"a5c25bae-9646-4180-b769-7d6f5ef82362\", [{\"x\": [1, 2, 3], \"y\": [3, 1, 6], \"type\": \"scatter\", \"uid\": \"7c8b02de-fe2b-11e8-923b-c49ded18145b\"}], {}, {\"showLink\": true, \"linkText\": \"Export to plot.ly\"})});</script>"
      ],
      "text/vnd.plotly.v1+html": [
       "<div id=\"a5c25bae-9646-4180-b769-7d6f5ef82362\" style=\"height: 525px; width: 100%;\" class=\"plotly-graph-div\"></div><script type=\"text/javascript\">require([\"plotly\"], function(Plotly) { window.PLOTLYENV=window.PLOTLYENV || {};window.PLOTLYENV.BASE_URL=\"https://plot.ly\";Plotly.newPlot(\"a5c25bae-9646-4180-b769-7d6f5ef82362\", [{\"x\": [1, 2, 3], \"y\": [3, 1, 6], \"type\": \"scatter\", \"uid\": \"7c8b02de-fe2b-11e8-923b-c49ded18145b\"}], {}, {\"showLink\": true, \"linkText\": \"Export to plot.ly\"})});</script>"
      ]
     },
     "metadata": {},
     "output_type": "display_data"
    }
   ],
   "source": [
    "\n",
    "iplot([{\"x\": [1, 2, 3], \"y\": [3, 1, 6]}])"
   ]
  },
  {
   "cell_type": "code",
   "execution_count": 4,
   "metadata": {
    "collapsed": true
   },
   "outputs": [],
   "source": [
    "df3 = pd.read_csv(\"https://raw.githubusercontent.com/plotly/datasets/master/school_earnings.csv\")\n",
    "table3 = ff.create_table(df3)"
   ]
  },
  {
   "cell_type": "code",
   "execution_count": 5,
   "metadata": {},
   "outputs": [
    {
     "data": {
      "text/plain": [
       "Women    12.813683\n",
       "Men      25.705289\n",
       "Gap      14.137084\n",
       "dtype: float64"
      ]
     },
     "execution_count": 5,
     "metadata": {},
     "output_type": "execute_result"
    }
   ],
   "source": [
    "df3.std()"
   ]
  },
  {
   "cell_type": "code",
   "execution_count": 6,
   "metadata": {},
   "outputs": [
    {
     "data": {
      "application/vnd.plotly.v1+json": {
       "data": [
        {
         "colorscale": [
          [
           0,
           "#00083e"
          ],
          [
           0.5,
           "#ededee"
          ],
          [
           1,
           "#ffffff"
          ]
         ],
         "hoverinfo": "none",
         "opacity": 0.75,
         "showscale": false,
         "type": "heatmap",
         "uid": "0bdad1d2-fdcd-11e8-9d75-c49ded18145b",
         "z": [
          [
           0,
           0,
           0,
           0
          ],
          [
           0.5,
           0.5,
           0.5,
           0.5
          ],
          [
           1,
           1,
           1,
           1
          ],
          [
           0.5,
           0.5,
           0.5,
           0.5
          ],
          [
           1,
           1,
           1,
           1
          ],
          [
           0.5,
           0.5,
           0.5,
           0.5
          ],
          [
           1,
           1,
           1,
           1
          ],
          [
           0.5,
           0.5,
           0.5,
           0.5
          ],
          [
           1,
           1,
           1,
           1
          ],
          [
           0.5,
           0.5,
           0.5,
           0.5
          ],
          [
           1,
           1,
           1,
           1
          ],
          [
           0.5,
           0.5,
           0.5,
           0.5
          ],
          [
           1,
           1,
           1,
           1
          ],
          [
           0.5,
           0.5,
           0.5,
           0.5
          ],
          [
           1,
           1,
           1,
           1
          ],
          [
           0.5,
           0.5,
           0.5,
           0.5
          ],
          [
           1,
           1,
           1,
           1
          ],
          [
           0.5,
           0.5,
           0.5,
           0.5
          ],
          [
           1,
           1,
           1,
           1
          ],
          [
           0.5,
           0.5,
           0.5,
           0.5
          ],
          [
           1,
           1,
           1,
           1
          ],
          [
           0.5,
           0.5,
           0.5,
           0.5
          ]
         ]
        }
       ],
       "layout": {
        "annotations": [
         {
          "align": "left",
          "font": {
           "color": "#ffffff"
          },
          "showarrow": false,
          "text": "<b>School</b>",
          "x": -0.45,
          "xanchor": "left",
          "xref": "x",
          "y": 0,
          "yref": "y"
         },
         {
          "align": "left",
          "font": {
           "color": "#ffffff"
          },
          "showarrow": false,
          "text": "<b>Women</b>",
          "x": 0.55,
          "xanchor": "left",
          "xref": "x",
          "y": 0,
          "yref": "y"
         },
         {
          "align": "left",
          "font": {
           "color": "#ffffff"
          },
          "showarrow": false,
          "text": "<b>Men</b>",
          "x": 1.55,
          "xanchor": "left",
          "xref": "x",
          "y": 0,
          "yref": "y"
         },
         {
          "align": "left",
          "font": {
           "color": "#ffffff"
          },
          "showarrow": false,
          "text": "<b>Gap</b>",
          "x": 2.55,
          "xanchor": "left",
          "xref": "x",
          "y": 0,
          "yref": "y"
         },
         {
          "align": "left",
          "font": {
           "color": "#000000"
          },
          "showarrow": false,
          "text": "MIT",
          "x": -0.45,
          "xanchor": "left",
          "xref": "x",
          "y": 1,
          "yref": "y"
         },
         {
          "align": "left",
          "font": {
           "color": "#000000"
          },
          "showarrow": false,
          "text": "94",
          "x": 0.55,
          "xanchor": "left",
          "xref": "x",
          "y": 1,
          "yref": "y"
         },
         {
          "align": "left",
          "font": {
           "color": "#000000"
          },
          "showarrow": false,
          "text": "152",
          "x": 1.55,
          "xanchor": "left",
          "xref": "x",
          "y": 1,
          "yref": "y"
         },
         {
          "align": "left",
          "font": {
           "color": "#000000"
          },
          "showarrow": false,
          "text": "58",
          "x": 2.55,
          "xanchor": "left",
          "xref": "x",
          "y": 1,
          "yref": "y"
         },
         {
          "align": "left",
          "font": {
           "color": "#000000"
          },
          "showarrow": false,
          "text": "Stanford",
          "x": -0.45,
          "xanchor": "left",
          "xref": "x",
          "y": 2,
          "yref": "y"
         },
         {
          "align": "left",
          "font": {
           "color": "#000000"
          },
          "showarrow": false,
          "text": "96",
          "x": 0.55,
          "xanchor": "left",
          "xref": "x",
          "y": 2,
          "yref": "y"
         },
         {
          "align": "left",
          "font": {
           "color": "#000000"
          },
          "showarrow": false,
          "text": "151",
          "x": 1.55,
          "xanchor": "left",
          "xref": "x",
          "y": 2,
          "yref": "y"
         },
         {
          "align": "left",
          "font": {
           "color": "#000000"
          },
          "showarrow": false,
          "text": "55",
          "x": 2.55,
          "xanchor": "left",
          "xref": "x",
          "y": 2,
          "yref": "y"
         },
         {
          "align": "left",
          "font": {
           "color": "#000000"
          },
          "showarrow": false,
          "text": "Harvard",
          "x": -0.45,
          "xanchor": "left",
          "xref": "x",
          "y": 3,
          "yref": "y"
         },
         {
          "align": "left",
          "font": {
           "color": "#000000"
          },
          "showarrow": false,
          "text": "112",
          "x": 0.55,
          "xanchor": "left",
          "xref": "x",
          "y": 3,
          "yref": "y"
         },
         {
          "align": "left",
          "font": {
           "color": "#000000"
          },
          "showarrow": false,
          "text": "165",
          "x": 1.55,
          "xanchor": "left",
          "xref": "x",
          "y": 3,
          "yref": "y"
         },
         {
          "align": "left",
          "font": {
           "color": "#000000"
          },
          "showarrow": false,
          "text": "53",
          "x": 2.55,
          "xanchor": "left",
          "xref": "x",
          "y": 3,
          "yref": "y"
         },
         {
          "align": "left",
          "font": {
           "color": "#000000"
          },
          "showarrow": false,
          "text": "U.Penn",
          "x": -0.45,
          "xanchor": "left",
          "xref": "x",
          "y": 4,
          "yref": "y"
         },
         {
          "align": "left",
          "font": {
           "color": "#000000"
          },
          "showarrow": false,
          "text": "92",
          "x": 0.55,
          "xanchor": "left",
          "xref": "x",
          "y": 4,
          "yref": "y"
         },
         {
          "align": "left",
          "font": {
           "color": "#000000"
          },
          "showarrow": false,
          "text": "141",
          "x": 1.55,
          "xanchor": "left",
          "xref": "x",
          "y": 4,
          "yref": "y"
         },
         {
          "align": "left",
          "font": {
           "color": "#000000"
          },
          "showarrow": false,
          "text": "49",
          "x": 2.55,
          "xanchor": "left",
          "xref": "x",
          "y": 4,
          "yref": "y"
         },
         {
          "align": "left",
          "font": {
           "color": "#000000"
          },
          "showarrow": false,
          "text": "Princeton",
          "x": -0.45,
          "xanchor": "left",
          "xref": "x",
          "y": 5,
          "yref": "y"
         },
         {
          "align": "left",
          "font": {
           "color": "#000000"
          },
          "showarrow": false,
          "text": "90",
          "x": 0.55,
          "xanchor": "left",
          "xref": "x",
          "y": 5,
          "yref": "y"
         },
         {
          "align": "left",
          "font": {
           "color": "#000000"
          },
          "showarrow": false,
          "text": "137",
          "x": 1.55,
          "xanchor": "left",
          "xref": "x",
          "y": 5,
          "yref": "y"
         },
         {
          "align": "left",
          "font": {
           "color": "#000000"
          },
          "showarrow": false,
          "text": "47",
          "x": 2.55,
          "xanchor": "left",
          "xref": "x",
          "y": 5,
          "yref": "y"
         },
         {
          "align": "left",
          "font": {
           "color": "#000000"
          },
          "showarrow": false,
          "text": "Chicago",
          "x": -0.45,
          "xanchor": "left",
          "xref": "x",
          "y": 6,
          "yref": "y"
         },
         {
          "align": "left",
          "font": {
           "color": "#000000"
          },
          "showarrow": false,
          "text": "78",
          "x": 0.55,
          "xanchor": "left",
          "xref": "x",
          "y": 6,
          "yref": "y"
         },
         {
          "align": "left",
          "font": {
           "color": "#000000"
          },
          "showarrow": false,
          "text": "118",
          "x": 1.55,
          "xanchor": "left",
          "xref": "x",
          "y": 6,
          "yref": "y"
         },
         {
          "align": "left",
          "font": {
           "color": "#000000"
          },
          "showarrow": false,
          "text": "40",
          "x": 2.55,
          "xanchor": "left",
          "xref": "x",
          "y": 6,
          "yref": "y"
         },
         {
          "align": "left",
          "font": {
           "color": "#000000"
          },
          "showarrow": false,
          "text": "Georgetown",
          "x": -0.45,
          "xanchor": "left",
          "xref": "x",
          "y": 7,
          "yref": "y"
         },
         {
          "align": "left",
          "font": {
           "color": "#000000"
          },
          "showarrow": false,
          "text": "94",
          "x": 0.55,
          "xanchor": "left",
          "xref": "x",
          "y": 7,
          "yref": "y"
         },
         {
          "align": "left",
          "font": {
           "color": "#000000"
          },
          "showarrow": false,
          "text": "131",
          "x": 1.55,
          "xanchor": "left",
          "xref": "x",
          "y": 7,
          "yref": "y"
         },
         {
          "align": "left",
          "font": {
           "color": "#000000"
          },
          "showarrow": false,
          "text": "37",
          "x": 2.55,
          "xanchor": "left",
          "xref": "x",
          "y": 7,
          "yref": "y"
         },
         {
          "align": "left",
          "font": {
           "color": "#000000"
          },
          "showarrow": false,
          "text": "Tufts",
          "x": -0.45,
          "xanchor": "left",
          "xref": "x",
          "y": 8,
          "yref": "y"
         },
         {
          "align": "left",
          "font": {
           "color": "#000000"
          },
          "showarrow": false,
          "text": "76",
          "x": 0.55,
          "xanchor": "left",
          "xref": "x",
          "y": 8,
          "yref": "y"
         },
         {
          "align": "left",
          "font": {
           "color": "#000000"
          },
          "showarrow": false,
          "text": "112",
          "x": 1.55,
          "xanchor": "left",
          "xref": "x",
          "y": 8,
          "yref": "y"
         },
         {
          "align": "left",
          "font": {
           "color": "#000000"
          },
          "showarrow": false,
          "text": "36",
          "x": 2.55,
          "xanchor": "left",
          "xref": "x",
          "y": 8,
          "yref": "y"
         },
         {
          "align": "left",
          "font": {
           "color": "#000000"
          },
          "showarrow": false,
          "text": "Yale",
          "x": -0.45,
          "xanchor": "left",
          "xref": "x",
          "y": 9,
          "yref": "y"
         },
         {
          "align": "left",
          "font": {
           "color": "#000000"
          },
          "showarrow": false,
          "text": "79",
          "x": 0.55,
          "xanchor": "left",
          "xref": "x",
          "y": 9,
          "yref": "y"
         },
         {
          "align": "left",
          "font": {
           "color": "#000000"
          },
          "showarrow": false,
          "text": "114",
          "x": 1.55,
          "xanchor": "left",
          "xref": "x",
          "y": 9,
          "yref": "y"
         },
         {
          "align": "left",
          "font": {
           "color": "#000000"
          },
          "showarrow": false,
          "text": "35",
          "x": 2.55,
          "xanchor": "left",
          "xref": "x",
          "y": 9,
          "yref": "y"
         },
         {
          "align": "left",
          "font": {
           "color": "#000000"
          },
          "showarrow": false,
          "text": "Columbia",
          "x": -0.45,
          "xanchor": "left",
          "xref": "x",
          "y": 10,
          "yref": "y"
         },
         {
          "align": "left",
          "font": {
           "color": "#000000"
          },
          "showarrow": false,
          "text": "86",
          "x": 0.55,
          "xanchor": "left",
          "xref": "x",
          "y": 10,
          "yref": "y"
         },
         {
          "align": "left",
          "font": {
           "color": "#000000"
          },
          "showarrow": false,
          "text": "119",
          "x": 1.55,
          "xanchor": "left",
          "xref": "x",
          "y": 10,
          "yref": "y"
         },
         {
          "align": "left",
          "font": {
           "color": "#000000"
          },
          "showarrow": false,
          "text": "33",
          "x": 2.55,
          "xanchor": "left",
          "xref": "x",
          "y": 10,
          "yref": "y"
         },
         {
          "align": "left",
          "font": {
           "color": "#000000"
          },
          "showarrow": false,
          "text": "Duke",
          "x": -0.45,
          "xanchor": "left",
          "xref": "x",
          "y": 11,
          "yref": "y"
         },
         {
          "align": "left",
          "font": {
           "color": "#000000"
          },
          "showarrow": false,
          "text": "93",
          "x": 0.55,
          "xanchor": "left",
          "xref": "x",
          "y": 11,
          "yref": "y"
         },
         {
          "align": "left",
          "font": {
           "color": "#000000"
          },
          "showarrow": false,
          "text": "124",
          "x": 1.55,
          "xanchor": "left",
          "xref": "x",
          "y": 11,
          "yref": "y"
         },
         {
          "align": "left",
          "font": {
           "color": "#000000"
          },
          "showarrow": false,
          "text": "31",
          "x": 2.55,
          "xanchor": "left",
          "xref": "x",
          "y": 11,
          "yref": "y"
         },
         {
          "align": "left",
          "font": {
           "color": "#000000"
          },
          "showarrow": false,
          "text": "Dartmouth",
          "x": -0.45,
          "xanchor": "left",
          "xref": "x",
          "y": 12,
          "yref": "y"
         },
         {
          "align": "left",
          "font": {
           "color": "#000000"
          },
          "showarrow": false,
          "text": "84",
          "x": 0.55,
          "xanchor": "left",
          "xref": "x",
          "y": 12,
          "yref": "y"
         },
         {
          "align": "left",
          "font": {
           "color": "#000000"
          },
          "showarrow": false,
          "text": "114",
          "x": 1.55,
          "xanchor": "left",
          "xref": "x",
          "y": 12,
          "yref": "y"
         },
         {
          "align": "left",
          "font": {
           "color": "#000000"
          },
          "showarrow": false,
          "text": "30",
          "x": 2.55,
          "xanchor": "left",
          "xref": "x",
          "y": 12,
          "yref": "y"
         },
         {
          "align": "left",
          "font": {
           "color": "#000000"
          },
          "showarrow": false,
          "text": "NYU",
          "x": -0.45,
          "xanchor": "left",
          "xref": "x",
          "y": 13,
          "yref": "y"
         },
         {
          "align": "left",
          "font": {
           "color": "#000000"
          },
          "showarrow": false,
          "text": "67",
          "x": 0.55,
          "xanchor": "left",
          "xref": "x",
          "y": 13,
          "yref": "y"
         },
         {
          "align": "left",
          "font": {
           "color": "#000000"
          },
          "showarrow": false,
          "text": "94",
          "x": 1.55,
          "xanchor": "left",
          "xref": "x",
          "y": 13,
          "yref": "y"
         },
         {
          "align": "left",
          "font": {
           "color": "#000000"
          },
          "showarrow": false,
          "text": "27",
          "x": 2.55,
          "xanchor": "left",
          "xref": "x",
          "y": 13,
          "yref": "y"
         },
         {
          "align": "left",
          "font": {
           "color": "#000000"
          },
          "showarrow": false,
          "text": "Notre Dame",
          "x": -0.45,
          "xanchor": "left",
          "xref": "x",
          "y": 14,
          "yref": "y"
         },
         {
          "align": "left",
          "font": {
           "color": "#000000"
          },
          "showarrow": false,
          "text": "73",
          "x": 0.55,
          "xanchor": "left",
          "xref": "x",
          "y": 14,
          "yref": "y"
         },
         {
          "align": "left",
          "font": {
           "color": "#000000"
          },
          "showarrow": false,
          "text": "100",
          "x": 1.55,
          "xanchor": "left",
          "xref": "x",
          "y": 14,
          "yref": "y"
         },
         {
          "align": "left",
          "font": {
           "color": "#000000"
          },
          "showarrow": false,
          "text": "27",
          "x": 2.55,
          "xanchor": "left",
          "xref": "x",
          "y": 14,
          "yref": "y"
         },
         {
          "align": "left",
          "font": {
           "color": "#000000"
          },
          "showarrow": false,
          "text": "Cornell",
          "x": -0.45,
          "xanchor": "left",
          "xref": "x",
          "y": 15,
          "yref": "y"
         },
         {
          "align": "left",
          "font": {
           "color": "#000000"
          },
          "showarrow": false,
          "text": "80",
          "x": 0.55,
          "xanchor": "left",
          "xref": "x",
          "y": 15,
          "yref": "y"
         },
         {
          "align": "left",
          "font": {
           "color": "#000000"
          },
          "showarrow": false,
          "text": "107",
          "x": 1.55,
          "xanchor": "left",
          "xref": "x",
          "y": 15,
          "yref": "y"
         },
         {
          "align": "left",
          "font": {
           "color": "#000000"
          },
          "showarrow": false,
          "text": "27",
          "x": 2.55,
          "xanchor": "left",
          "xref": "x",
          "y": 15,
          "yref": "y"
         },
         {
          "align": "left",
          "font": {
           "color": "#000000"
          },
          "showarrow": false,
          "text": "Michigan",
          "x": -0.45,
          "xanchor": "left",
          "xref": "x",
          "y": 16,
          "yref": "y"
         },
         {
          "align": "left",
          "font": {
           "color": "#000000"
          },
          "showarrow": false,
          "text": "62",
          "x": 0.55,
          "xanchor": "left",
          "xref": "x",
          "y": 16,
          "yref": "y"
         },
         {
          "align": "left",
          "font": {
           "color": "#000000"
          },
          "showarrow": false,
          "text": "84",
          "x": 1.55,
          "xanchor": "left",
          "xref": "x",
          "y": 16,
          "yref": "y"
         },
         {
          "align": "left",
          "font": {
           "color": "#000000"
          },
          "showarrow": false,
          "text": "22",
          "x": 2.55,
          "xanchor": "left",
          "xref": "x",
          "y": 16,
          "yref": "y"
         },
         {
          "align": "left",
          "font": {
           "color": "#000000"
          },
          "showarrow": false,
          "text": "Brown",
          "x": -0.45,
          "xanchor": "left",
          "xref": "x",
          "y": 17,
          "yref": "y"
         },
         {
          "align": "left",
          "font": {
           "color": "#000000"
          },
          "showarrow": false,
          "text": "72",
          "x": 0.55,
          "xanchor": "left",
          "xref": "x",
          "y": 17,
          "yref": "y"
         },
         {
          "align": "left",
          "font": {
           "color": "#000000"
          },
          "showarrow": false,
          "text": "92",
          "x": 1.55,
          "xanchor": "left",
          "xref": "x",
          "y": 17,
          "yref": "y"
         },
         {
          "align": "left",
          "font": {
           "color": "#000000"
          },
          "showarrow": false,
          "text": "20",
          "x": 2.55,
          "xanchor": "left",
          "xref": "x",
          "y": 17,
          "yref": "y"
         },
         {
          "align": "left",
          "font": {
           "color": "#000000"
          },
          "showarrow": false,
          "text": "Berkeley",
          "x": -0.45,
          "xanchor": "left",
          "xref": "x",
          "y": 18,
          "yref": "y"
         },
         {
          "align": "left",
          "font": {
           "color": "#000000"
          },
          "showarrow": false,
          "text": "71",
          "x": 0.55,
          "xanchor": "left",
          "xref": "x",
          "y": 18,
          "yref": "y"
         },
         {
          "align": "left",
          "font": {
           "color": "#000000"
          },
          "showarrow": false,
          "text": "88",
          "x": 1.55,
          "xanchor": "left",
          "xref": "x",
          "y": 18,
          "yref": "y"
         },
         {
          "align": "left",
          "font": {
           "color": "#000000"
          },
          "showarrow": false,
          "text": "17",
          "x": 2.55,
          "xanchor": "left",
          "xref": "x",
          "y": 18,
          "yref": "y"
         },
         {
          "align": "left",
          "font": {
           "color": "#000000"
          },
          "showarrow": false,
          "text": "Emory",
          "x": -0.45,
          "xanchor": "left",
          "xref": "x",
          "y": 19,
          "yref": "y"
         },
         {
          "align": "left",
          "font": {
           "color": "#000000"
          },
          "showarrow": false,
          "text": "68",
          "x": 0.55,
          "xanchor": "left",
          "xref": "x",
          "y": 19,
          "yref": "y"
         },
         {
          "align": "left",
          "font": {
           "color": "#000000"
          },
          "showarrow": false,
          "text": "82",
          "x": 1.55,
          "xanchor": "left",
          "xref": "x",
          "y": 19,
          "yref": "y"
         },
         {
          "align": "left",
          "font": {
           "color": "#000000"
          },
          "showarrow": false,
          "text": "14",
          "x": 2.55,
          "xanchor": "left",
          "xref": "x",
          "y": 19,
          "yref": "y"
         },
         {
          "align": "left",
          "font": {
           "color": "#000000"
          },
          "showarrow": false,
          "text": "UCLA",
          "x": -0.45,
          "xanchor": "left",
          "xref": "x",
          "y": 20,
          "yref": "y"
         },
         {
          "align": "left",
          "font": {
           "color": "#000000"
          },
          "showarrow": false,
          "text": "64",
          "x": 0.55,
          "xanchor": "left",
          "xref": "x",
          "y": 20,
          "yref": "y"
         },
         {
          "align": "left",
          "font": {
           "color": "#000000"
          },
          "showarrow": false,
          "text": "78",
          "x": 1.55,
          "xanchor": "left",
          "xref": "x",
          "y": 20,
          "yref": "y"
         },
         {
          "align": "left",
          "font": {
           "color": "#000000"
          },
          "showarrow": false,
          "text": "14",
          "x": 2.55,
          "xanchor": "left",
          "xref": "x",
          "y": 20,
          "yref": "y"
         },
         {
          "align": "left",
          "font": {
           "color": "#000000"
          },
          "showarrow": false,
          "text": "SoCal",
          "x": -0.45,
          "xanchor": "left",
          "xref": "x",
          "y": 21,
          "yref": "y"
         },
         {
          "align": "left",
          "font": {
           "color": "#000000"
          },
          "showarrow": false,
          "text": "72",
          "x": 0.55,
          "xanchor": "left",
          "xref": "x",
          "y": 21,
          "yref": "y"
         },
         {
          "align": "left",
          "font": {
           "color": "#000000"
          },
          "showarrow": false,
          "text": "81",
          "x": 1.55,
          "xanchor": "left",
          "xref": "x",
          "y": 21,
          "yref": "y"
         },
         {
          "align": "left",
          "font": {
           "color": "#000000"
          },
          "showarrow": false,
          "text": "9",
          "x": 2.55,
          "xanchor": "left",
          "xref": "x",
          "y": 21,
          "yref": "y"
         }
        ],
        "height": 710,
        "margin": {
         "b": 0,
         "l": 0,
         "r": 0,
         "t": 0
        },
        "xaxis": {
         "dtick": 1,
         "gridwidth": 2,
         "showticklabels": false,
         "tick0": -0.5,
         "ticks": "",
         "zeroline": false
        },
        "yaxis": {
         "autorange": "reversed",
         "dtick": 1,
         "gridwidth": 2,
         "showticklabels": false,
         "tick0": 0.5,
         "ticks": "",
         "zeroline": false
        }
       }
      },
      "text/html": [
       "<div id=\"f56cbf3f-099c-45a7-8a97-15b6be5cde9c\" style=\"height: 710px; width: 100%;\" class=\"plotly-graph-div\"></div><script type=\"text/javascript\">require([\"plotly\"], function(Plotly) { window.PLOTLYENV=window.PLOTLYENV || {};window.PLOTLYENV.BASE_URL=\"https://plot.ly\";\n",
       "        Plotly.plot(\n",
       "            'f56cbf3f-099c-45a7-8a97-15b6be5cde9c',\n",
       "            [{\"colorscale\": [[0, \"#00083e\"], [0.5, \"#ededee\"], [1, \"#ffffff\"]], \"hoverinfo\": \"none\", \"opacity\": 0.75, \"showscale\": false, \"z\": [[0, 0, 0, 0], [0.5, 0.5, 0.5, 0.5], [1, 1, 1, 1], [0.5, 0.5, 0.5, 0.5], [1, 1, 1, 1], [0.5, 0.5, 0.5, 0.5], [1, 1, 1, 1], [0.5, 0.5, 0.5, 0.5], [1, 1, 1, 1], [0.5, 0.5, 0.5, 0.5], [1, 1, 1, 1], [0.5, 0.5, 0.5, 0.5], [1, 1, 1, 1], [0.5, 0.5, 0.5, 0.5], [1, 1, 1, 1], [0.5, 0.5, 0.5, 0.5], [1, 1, 1, 1], [0.5, 0.5, 0.5, 0.5], [1, 1, 1, 1], [0.5, 0.5, 0.5, 0.5], [1, 1, 1, 1], [0.5, 0.5, 0.5, 0.5]], \"type\": \"heatmap\", \"uid\": \"0bdad1d2-fdcd-11e8-9d75-c49ded18145b\"}],\n",
       "            {\"annotations\": [{\"align\": \"left\", \"font\": {\"color\": \"#ffffff\"}, \"showarrow\": false, \"text\": \"<b>School</b>\", \"x\": -0.45, \"xanchor\": \"left\", \"xref\": \"x\", \"y\": 0, \"yref\": \"y\"}, {\"align\": \"left\", \"font\": {\"color\": \"#ffffff\"}, \"showarrow\": false, \"text\": \"<b>Women</b>\", \"x\": 0.55, \"xanchor\": \"left\", \"xref\": \"x\", \"y\": 0, \"yref\": \"y\"}, {\"align\": \"left\", \"font\": {\"color\": \"#ffffff\"}, \"showarrow\": false, \"text\": \"<b>Men</b>\", \"x\": 1.55, \"xanchor\": \"left\", \"xref\": \"x\", \"y\": 0, \"yref\": \"y\"}, {\"align\": \"left\", \"font\": {\"color\": \"#ffffff\"}, \"showarrow\": false, \"text\": \"<b>Gap</b>\", \"x\": 2.55, \"xanchor\": \"left\", \"xref\": \"x\", \"y\": 0, \"yref\": \"y\"}, {\"align\": \"left\", \"font\": {\"color\": \"#000000\"}, \"showarrow\": false, \"text\": \"MIT\", \"x\": -0.45, \"xanchor\": \"left\", \"xref\": \"x\", \"y\": 1, \"yref\": \"y\"}, {\"align\": \"left\", \"font\": {\"color\": \"#000000\"}, \"showarrow\": false, \"text\": \"94\", \"x\": 0.55, \"xanchor\": \"left\", \"xref\": \"x\", \"y\": 1, \"yref\": \"y\"}, {\"align\": \"left\", \"font\": {\"color\": \"#000000\"}, \"showarrow\": false, \"text\": \"152\", \"x\": 1.55, \"xanchor\": \"left\", \"xref\": \"x\", \"y\": 1, \"yref\": \"y\"}, {\"align\": \"left\", \"font\": {\"color\": \"#000000\"}, \"showarrow\": false, \"text\": \"58\", \"x\": 2.55, \"xanchor\": \"left\", \"xref\": \"x\", \"y\": 1, \"yref\": \"y\"}, {\"align\": \"left\", \"font\": {\"color\": \"#000000\"}, \"showarrow\": false, \"text\": \"Stanford\", \"x\": -0.45, \"xanchor\": \"left\", \"xref\": \"x\", \"y\": 2, \"yref\": \"y\"}, {\"align\": \"left\", \"font\": {\"color\": \"#000000\"}, \"showarrow\": false, \"text\": \"96\", \"x\": 0.55, \"xanchor\": \"left\", \"xref\": \"x\", \"y\": 2, \"yref\": \"y\"}, {\"align\": \"left\", \"font\": {\"color\": \"#000000\"}, \"showarrow\": false, \"text\": \"151\", \"x\": 1.55, \"xanchor\": \"left\", \"xref\": \"x\", \"y\": 2, \"yref\": \"y\"}, {\"align\": \"left\", \"font\": {\"color\": \"#000000\"}, \"showarrow\": false, \"text\": \"55\", \"x\": 2.55, \"xanchor\": \"left\", \"xref\": \"x\", \"y\": 2, \"yref\": \"y\"}, {\"align\": \"left\", \"font\": {\"color\": \"#000000\"}, \"showarrow\": false, \"text\": \"Harvard\", \"x\": -0.45, \"xanchor\": \"left\", \"xref\": \"x\", \"y\": 3, \"yref\": \"y\"}, {\"align\": \"left\", \"font\": {\"color\": \"#000000\"}, \"showarrow\": false, \"text\": \"112\", \"x\": 0.55, \"xanchor\": \"left\", \"xref\": \"x\", \"y\": 3, \"yref\": \"y\"}, {\"align\": \"left\", \"font\": {\"color\": \"#000000\"}, \"showarrow\": false, \"text\": \"165\", \"x\": 1.55, \"xanchor\": \"left\", \"xref\": \"x\", \"y\": 3, \"yref\": \"y\"}, {\"align\": \"left\", \"font\": {\"color\": \"#000000\"}, \"showarrow\": false, \"text\": \"53\", \"x\": 2.55, \"xanchor\": \"left\", \"xref\": \"x\", \"y\": 3, \"yref\": \"y\"}, {\"align\": \"left\", \"font\": {\"color\": \"#000000\"}, \"showarrow\": false, \"text\": \"U.Penn\", \"x\": -0.45, \"xanchor\": \"left\", \"xref\": \"x\", \"y\": 4, \"yref\": \"y\"}, {\"align\": \"left\", \"font\": {\"color\": \"#000000\"}, \"showarrow\": false, \"text\": \"92\", \"x\": 0.55, \"xanchor\": \"left\", \"xref\": \"x\", \"y\": 4, \"yref\": \"y\"}, {\"align\": \"left\", \"font\": {\"color\": \"#000000\"}, \"showarrow\": false, \"text\": \"141\", \"x\": 1.55, \"xanchor\": \"left\", \"xref\": \"x\", \"y\": 4, \"yref\": \"y\"}, {\"align\": \"left\", \"font\": {\"color\": \"#000000\"}, \"showarrow\": false, \"text\": \"49\", \"x\": 2.55, \"xanchor\": \"left\", \"xref\": \"x\", \"y\": 4, \"yref\": \"y\"}, {\"align\": \"left\", \"font\": {\"color\": \"#000000\"}, \"showarrow\": false, \"text\": \"Princeton\", \"x\": -0.45, \"xanchor\": \"left\", \"xref\": \"x\", \"y\": 5, \"yref\": \"y\"}, {\"align\": \"left\", \"font\": {\"color\": \"#000000\"}, \"showarrow\": false, \"text\": \"90\", \"x\": 0.55, \"xanchor\": \"left\", \"xref\": \"x\", \"y\": 5, \"yref\": \"y\"}, {\"align\": \"left\", \"font\": {\"color\": \"#000000\"}, \"showarrow\": false, \"text\": \"137\", \"x\": 1.55, \"xanchor\": \"left\", \"xref\": \"x\", \"y\": 5, \"yref\": \"y\"}, {\"align\": \"left\", \"font\": {\"color\": \"#000000\"}, \"showarrow\": false, \"text\": \"47\", \"x\": 2.55, \"xanchor\": \"left\", \"xref\": \"x\", \"y\": 5, \"yref\": \"y\"}, {\"align\": \"left\", \"font\": {\"color\": \"#000000\"}, \"showarrow\": false, \"text\": \"Chicago\", \"x\": -0.45, \"xanchor\": \"left\", \"xref\": \"x\", \"y\": 6, \"yref\": \"y\"}, {\"align\": \"left\", \"font\": {\"color\": \"#000000\"}, \"showarrow\": false, \"text\": \"78\", \"x\": 0.55, \"xanchor\": \"left\", \"xref\": \"x\", \"y\": 6, \"yref\": \"y\"}, {\"align\": \"left\", \"font\": {\"color\": \"#000000\"}, \"showarrow\": false, \"text\": \"118\", \"x\": 1.55, \"xanchor\": \"left\", \"xref\": \"x\", \"y\": 6, \"yref\": \"y\"}, {\"align\": \"left\", \"font\": {\"color\": \"#000000\"}, \"showarrow\": false, \"text\": \"40\", \"x\": 2.55, \"xanchor\": \"left\", \"xref\": \"x\", \"y\": 6, \"yref\": \"y\"}, {\"align\": \"left\", \"font\": {\"color\": \"#000000\"}, \"showarrow\": false, \"text\": \"Georgetown\", \"x\": -0.45, \"xanchor\": \"left\", \"xref\": \"x\", \"y\": 7, \"yref\": \"y\"}, {\"align\": \"left\", \"font\": {\"color\": \"#000000\"}, \"showarrow\": false, \"text\": \"94\", \"x\": 0.55, \"xanchor\": \"left\", \"xref\": \"x\", \"y\": 7, \"yref\": \"y\"}, {\"align\": \"left\", \"font\": {\"color\": \"#000000\"}, \"showarrow\": false, \"text\": \"131\", \"x\": 1.55, \"xanchor\": \"left\", \"xref\": \"x\", \"y\": 7, \"yref\": \"y\"}, {\"align\": \"left\", \"font\": {\"color\": \"#000000\"}, \"showarrow\": false, \"text\": \"37\", \"x\": 2.55, \"xanchor\": \"left\", \"xref\": \"x\", \"y\": 7, \"yref\": \"y\"}, {\"align\": \"left\", \"font\": {\"color\": \"#000000\"}, \"showarrow\": false, \"text\": \"Tufts\", \"x\": -0.45, \"xanchor\": \"left\", \"xref\": \"x\", \"y\": 8, \"yref\": \"y\"}, {\"align\": \"left\", \"font\": {\"color\": \"#000000\"}, \"showarrow\": false, \"text\": \"76\", \"x\": 0.55, \"xanchor\": \"left\", \"xref\": \"x\", \"y\": 8, \"yref\": \"y\"}, {\"align\": \"left\", \"font\": {\"color\": \"#000000\"}, \"showarrow\": false, \"text\": \"112\", \"x\": 1.55, \"xanchor\": \"left\", \"xref\": \"x\", \"y\": 8, \"yref\": \"y\"}, {\"align\": \"left\", \"font\": {\"color\": \"#000000\"}, \"showarrow\": false, \"text\": \"36\", \"x\": 2.55, \"xanchor\": \"left\", \"xref\": \"x\", \"y\": 8, \"yref\": \"y\"}, {\"align\": \"left\", \"font\": {\"color\": \"#000000\"}, \"showarrow\": false, \"text\": \"Yale\", \"x\": -0.45, \"xanchor\": \"left\", \"xref\": \"x\", \"y\": 9, \"yref\": \"y\"}, {\"align\": \"left\", \"font\": {\"color\": \"#000000\"}, \"showarrow\": false, \"text\": \"79\", \"x\": 0.55, \"xanchor\": \"left\", \"xref\": \"x\", \"y\": 9, \"yref\": \"y\"}, {\"align\": \"left\", \"font\": {\"color\": \"#000000\"}, \"showarrow\": false, \"text\": \"114\", \"x\": 1.55, \"xanchor\": \"left\", \"xref\": \"x\", \"y\": 9, \"yref\": \"y\"}, {\"align\": \"left\", \"font\": {\"color\": \"#000000\"}, \"showarrow\": false, \"text\": \"35\", \"x\": 2.55, \"xanchor\": \"left\", \"xref\": \"x\", \"y\": 9, \"yref\": \"y\"}, {\"align\": \"left\", \"font\": {\"color\": \"#000000\"}, \"showarrow\": false, \"text\": \"Columbia\", \"x\": -0.45, \"xanchor\": \"left\", \"xref\": \"x\", \"y\": 10, \"yref\": \"y\"}, {\"align\": \"left\", \"font\": {\"color\": \"#000000\"}, \"showarrow\": false, \"text\": \"86\", \"x\": 0.55, \"xanchor\": \"left\", \"xref\": \"x\", \"y\": 10, \"yref\": \"y\"}, {\"align\": \"left\", \"font\": {\"color\": \"#000000\"}, \"showarrow\": false, \"text\": \"119\", \"x\": 1.55, \"xanchor\": \"left\", \"xref\": \"x\", \"y\": 10, \"yref\": \"y\"}, {\"align\": \"left\", \"font\": {\"color\": \"#000000\"}, \"showarrow\": false, \"text\": \"33\", \"x\": 2.55, \"xanchor\": \"left\", \"xref\": \"x\", \"y\": 10, \"yref\": \"y\"}, {\"align\": \"left\", \"font\": {\"color\": \"#000000\"}, \"showarrow\": false, \"text\": \"Duke\", \"x\": -0.45, \"xanchor\": \"left\", \"xref\": \"x\", \"y\": 11, \"yref\": \"y\"}, {\"align\": \"left\", \"font\": {\"color\": \"#000000\"}, \"showarrow\": false, \"text\": \"93\", \"x\": 0.55, \"xanchor\": \"left\", \"xref\": \"x\", \"y\": 11, \"yref\": \"y\"}, {\"align\": \"left\", \"font\": {\"color\": \"#000000\"}, \"showarrow\": false, \"text\": \"124\", \"x\": 1.55, \"xanchor\": \"left\", \"xref\": \"x\", \"y\": 11, \"yref\": \"y\"}, {\"align\": \"left\", \"font\": {\"color\": \"#000000\"}, \"showarrow\": false, \"text\": \"31\", \"x\": 2.55, \"xanchor\": \"left\", \"xref\": \"x\", \"y\": 11, \"yref\": \"y\"}, {\"align\": \"left\", \"font\": {\"color\": \"#000000\"}, \"showarrow\": false, \"text\": \"Dartmouth\", \"x\": -0.45, \"xanchor\": \"left\", \"xref\": \"x\", \"y\": 12, \"yref\": \"y\"}, {\"align\": \"left\", \"font\": {\"color\": \"#000000\"}, \"showarrow\": false, \"text\": \"84\", \"x\": 0.55, \"xanchor\": \"left\", \"xref\": \"x\", \"y\": 12, \"yref\": \"y\"}, {\"align\": \"left\", \"font\": {\"color\": \"#000000\"}, \"showarrow\": false, \"text\": \"114\", \"x\": 1.55, \"xanchor\": \"left\", \"xref\": \"x\", \"y\": 12, \"yref\": \"y\"}, {\"align\": \"left\", \"font\": {\"color\": \"#000000\"}, \"showarrow\": false, \"text\": \"30\", \"x\": 2.55, \"xanchor\": \"left\", \"xref\": \"x\", \"y\": 12, \"yref\": \"y\"}, {\"align\": \"left\", \"font\": {\"color\": \"#000000\"}, \"showarrow\": false, \"text\": \"NYU\", \"x\": -0.45, \"xanchor\": \"left\", \"xref\": \"x\", \"y\": 13, \"yref\": \"y\"}, {\"align\": \"left\", \"font\": {\"color\": \"#000000\"}, \"showarrow\": false, \"text\": \"67\", \"x\": 0.55, \"xanchor\": \"left\", \"xref\": \"x\", \"y\": 13, \"yref\": \"y\"}, {\"align\": \"left\", \"font\": {\"color\": \"#000000\"}, \"showarrow\": false, \"text\": \"94\", \"x\": 1.55, \"xanchor\": \"left\", \"xref\": \"x\", \"y\": 13, \"yref\": \"y\"}, {\"align\": \"left\", \"font\": {\"color\": \"#000000\"}, \"showarrow\": false, \"text\": \"27\", \"x\": 2.55, \"xanchor\": \"left\", \"xref\": \"x\", \"y\": 13, \"yref\": \"y\"}, {\"align\": \"left\", \"font\": {\"color\": \"#000000\"}, \"showarrow\": false, \"text\": \"Notre Dame\", \"x\": -0.45, \"xanchor\": \"left\", \"xref\": \"x\", \"y\": 14, \"yref\": \"y\"}, {\"align\": \"left\", \"font\": {\"color\": \"#000000\"}, \"showarrow\": false, \"text\": \"73\", \"x\": 0.55, \"xanchor\": \"left\", \"xref\": \"x\", \"y\": 14, \"yref\": \"y\"}, {\"align\": \"left\", \"font\": {\"color\": \"#000000\"}, \"showarrow\": false, \"text\": \"100\", \"x\": 1.55, \"xanchor\": \"left\", \"xref\": \"x\", \"y\": 14, \"yref\": \"y\"}, {\"align\": \"left\", \"font\": {\"color\": \"#000000\"}, \"showarrow\": false, \"text\": \"27\", \"x\": 2.55, \"xanchor\": \"left\", \"xref\": \"x\", \"y\": 14, \"yref\": \"y\"}, {\"align\": \"left\", \"font\": {\"color\": \"#000000\"}, \"showarrow\": false, \"text\": \"Cornell\", \"x\": -0.45, \"xanchor\": \"left\", \"xref\": \"x\", \"y\": 15, \"yref\": \"y\"}, {\"align\": \"left\", \"font\": {\"color\": \"#000000\"}, \"showarrow\": false, \"text\": \"80\", \"x\": 0.55, \"xanchor\": \"left\", \"xref\": \"x\", \"y\": 15, \"yref\": \"y\"}, {\"align\": \"left\", \"font\": {\"color\": \"#000000\"}, \"showarrow\": false, \"text\": \"107\", \"x\": 1.55, \"xanchor\": \"left\", \"xref\": \"x\", \"y\": 15, \"yref\": \"y\"}, {\"align\": \"left\", \"font\": {\"color\": \"#000000\"}, \"showarrow\": false, \"text\": \"27\", \"x\": 2.55, \"xanchor\": \"left\", \"xref\": \"x\", \"y\": 15, \"yref\": \"y\"}, {\"align\": \"left\", \"font\": {\"color\": \"#000000\"}, \"showarrow\": false, \"text\": \"Michigan\", \"x\": -0.45, \"xanchor\": \"left\", \"xref\": \"x\", \"y\": 16, \"yref\": \"y\"}, {\"align\": \"left\", \"font\": {\"color\": \"#000000\"}, \"showarrow\": false, \"text\": \"62\", \"x\": 0.55, \"xanchor\": \"left\", \"xref\": \"x\", \"y\": 16, \"yref\": \"y\"}, {\"align\": \"left\", \"font\": {\"color\": \"#000000\"}, \"showarrow\": false, \"text\": \"84\", \"x\": 1.55, \"xanchor\": \"left\", \"xref\": \"x\", \"y\": 16, \"yref\": \"y\"}, {\"align\": \"left\", \"font\": {\"color\": \"#000000\"}, \"showarrow\": false, \"text\": \"22\", \"x\": 2.55, \"xanchor\": \"left\", \"xref\": \"x\", \"y\": 16, \"yref\": \"y\"}, {\"align\": \"left\", \"font\": {\"color\": \"#000000\"}, \"showarrow\": false, \"text\": \"Brown\", \"x\": -0.45, \"xanchor\": \"left\", \"xref\": \"x\", \"y\": 17, \"yref\": \"y\"}, {\"align\": \"left\", \"font\": {\"color\": \"#000000\"}, \"showarrow\": false, \"text\": \"72\", \"x\": 0.55, \"xanchor\": \"left\", \"xref\": \"x\", \"y\": 17, \"yref\": \"y\"}, {\"align\": \"left\", \"font\": {\"color\": \"#000000\"}, \"showarrow\": false, \"text\": \"92\", \"x\": 1.55, \"xanchor\": \"left\", \"xref\": \"x\", \"y\": 17, \"yref\": \"y\"}, {\"align\": \"left\", \"font\": {\"color\": \"#000000\"}, \"showarrow\": false, \"text\": \"20\", \"x\": 2.55, \"xanchor\": \"left\", \"xref\": \"x\", \"y\": 17, \"yref\": \"y\"}, {\"align\": \"left\", \"font\": {\"color\": \"#000000\"}, \"showarrow\": false, \"text\": \"Berkeley\", \"x\": -0.45, \"xanchor\": \"left\", \"xref\": \"x\", \"y\": 18, \"yref\": \"y\"}, {\"align\": \"left\", \"font\": {\"color\": \"#000000\"}, \"showarrow\": false, \"text\": \"71\", \"x\": 0.55, \"xanchor\": \"left\", \"xref\": \"x\", \"y\": 18, \"yref\": \"y\"}, {\"align\": \"left\", \"font\": {\"color\": \"#000000\"}, \"showarrow\": false, \"text\": \"88\", \"x\": 1.55, \"xanchor\": \"left\", \"xref\": \"x\", \"y\": 18, \"yref\": \"y\"}, {\"align\": \"left\", \"font\": {\"color\": \"#000000\"}, \"showarrow\": false, \"text\": \"17\", \"x\": 2.55, \"xanchor\": \"left\", \"xref\": \"x\", \"y\": 18, \"yref\": \"y\"}, {\"align\": \"left\", \"font\": {\"color\": \"#000000\"}, \"showarrow\": false, \"text\": \"Emory\", \"x\": -0.45, \"xanchor\": \"left\", \"xref\": \"x\", \"y\": 19, \"yref\": \"y\"}, {\"align\": \"left\", \"font\": {\"color\": \"#000000\"}, \"showarrow\": false, \"text\": \"68\", \"x\": 0.55, \"xanchor\": \"left\", \"xref\": \"x\", \"y\": 19, \"yref\": \"y\"}, {\"align\": \"left\", \"font\": {\"color\": \"#000000\"}, \"showarrow\": false, \"text\": \"82\", \"x\": 1.55, \"xanchor\": \"left\", \"xref\": \"x\", \"y\": 19, \"yref\": \"y\"}, {\"align\": \"left\", \"font\": {\"color\": \"#000000\"}, \"showarrow\": false, \"text\": \"14\", \"x\": 2.55, \"xanchor\": \"left\", \"xref\": \"x\", \"y\": 19, \"yref\": \"y\"}, {\"align\": \"left\", \"font\": {\"color\": \"#000000\"}, \"showarrow\": false, \"text\": \"UCLA\", \"x\": -0.45, \"xanchor\": \"left\", \"xref\": \"x\", \"y\": 20, \"yref\": \"y\"}, {\"align\": \"left\", \"font\": {\"color\": \"#000000\"}, \"showarrow\": false, \"text\": \"64\", \"x\": 0.55, \"xanchor\": \"left\", \"xref\": \"x\", \"y\": 20, \"yref\": \"y\"}, {\"align\": \"left\", \"font\": {\"color\": \"#000000\"}, \"showarrow\": false, \"text\": \"78\", \"x\": 1.55, \"xanchor\": \"left\", \"xref\": \"x\", \"y\": 20, \"yref\": \"y\"}, {\"align\": \"left\", \"font\": {\"color\": \"#000000\"}, \"showarrow\": false, \"text\": \"14\", \"x\": 2.55, \"xanchor\": \"left\", \"xref\": \"x\", \"y\": 20, \"yref\": \"y\"}, {\"align\": \"left\", \"font\": {\"color\": \"#000000\"}, \"showarrow\": false, \"text\": \"SoCal\", \"x\": -0.45, \"xanchor\": \"left\", \"xref\": \"x\", \"y\": 21, \"yref\": \"y\"}, {\"align\": \"left\", \"font\": {\"color\": \"#000000\"}, \"showarrow\": false, \"text\": \"72\", \"x\": 0.55, \"xanchor\": \"left\", \"xref\": \"x\", \"y\": 21, \"yref\": \"y\"}, {\"align\": \"left\", \"font\": {\"color\": \"#000000\"}, \"showarrow\": false, \"text\": \"81\", \"x\": 1.55, \"xanchor\": \"left\", \"xref\": \"x\", \"y\": 21, \"yref\": \"y\"}, {\"align\": \"left\", \"font\": {\"color\": \"#000000\"}, \"showarrow\": false, \"text\": \"9\", \"x\": 2.55, \"xanchor\": \"left\", \"xref\": \"x\", \"y\": 21, \"yref\": \"y\"}], \"height\": 710, \"margin\": {\"b\": 0, \"l\": 0, \"r\": 0, \"t\": 0}, \"xaxis\": {\"dtick\": 1, \"gridwidth\": 2, \"showticklabels\": false, \"tick0\": -0.5, \"ticks\": \"\", \"zeroline\": false}, \"yaxis\": {\"autorange\": \"reversed\", \"dtick\": 1, \"gridwidth\": 2, \"showticklabels\": false, \"tick0\": 0.5, \"ticks\": \"\", \"zeroline\": false}},\n",
       "            {\"showLink\": true, \"linkText\": \"Export to plot.ly\"}\n",
       "        ).then(function () {return Plotly.addFrames('f56cbf3f-099c-45a7-8a97-15b6be5cde9c',{});}).then(function(){Plotly.animate('f56cbf3f-099c-45a7-8a97-15b6be5cde9c');})\n",
       "        });</script>"
      ],
      "text/vnd.plotly.v1+html": [
       "<div id=\"f56cbf3f-099c-45a7-8a97-15b6be5cde9c\" style=\"height: 710px; width: 100%;\" class=\"plotly-graph-div\"></div><script type=\"text/javascript\">require([\"plotly\"], function(Plotly) { window.PLOTLYENV=window.PLOTLYENV || {};window.PLOTLYENV.BASE_URL=\"https://plot.ly\";\n",
       "        Plotly.plot(\n",
       "            'f56cbf3f-099c-45a7-8a97-15b6be5cde9c',\n",
       "            [{\"colorscale\": [[0, \"#00083e\"], [0.5, \"#ededee\"], [1, \"#ffffff\"]], \"hoverinfo\": \"none\", \"opacity\": 0.75, \"showscale\": false, \"z\": [[0, 0, 0, 0], [0.5, 0.5, 0.5, 0.5], [1, 1, 1, 1], [0.5, 0.5, 0.5, 0.5], [1, 1, 1, 1], [0.5, 0.5, 0.5, 0.5], [1, 1, 1, 1], [0.5, 0.5, 0.5, 0.5], [1, 1, 1, 1], [0.5, 0.5, 0.5, 0.5], [1, 1, 1, 1], [0.5, 0.5, 0.5, 0.5], [1, 1, 1, 1], [0.5, 0.5, 0.5, 0.5], [1, 1, 1, 1], [0.5, 0.5, 0.5, 0.5], [1, 1, 1, 1], [0.5, 0.5, 0.5, 0.5], [1, 1, 1, 1], [0.5, 0.5, 0.5, 0.5], [1, 1, 1, 1], [0.5, 0.5, 0.5, 0.5]], \"type\": \"heatmap\", \"uid\": \"0bdad1d2-fdcd-11e8-9d75-c49ded18145b\"}],\n",
       "            {\"annotations\": [{\"align\": \"left\", \"font\": {\"color\": \"#ffffff\"}, \"showarrow\": false, \"text\": \"<b>School</b>\", \"x\": -0.45, \"xanchor\": \"left\", \"xref\": \"x\", \"y\": 0, \"yref\": \"y\"}, {\"align\": \"left\", \"font\": {\"color\": \"#ffffff\"}, \"showarrow\": false, \"text\": \"<b>Women</b>\", \"x\": 0.55, \"xanchor\": \"left\", \"xref\": \"x\", \"y\": 0, \"yref\": \"y\"}, {\"align\": \"left\", \"font\": {\"color\": \"#ffffff\"}, \"showarrow\": false, \"text\": \"<b>Men</b>\", \"x\": 1.55, \"xanchor\": \"left\", \"xref\": \"x\", \"y\": 0, \"yref\": \"y\"}, {\"align\": \"left\", \"font\": {\"color\": \"#ffffff\"}, \"showarrow\": false, \"text\": \"<b>Gap</b>\", \"x\": 2.55, \"xanchor\": \"left\", \"xref\": \"x\", \"y\": 0, \"yref\": \"y\"}, {\"align\": \"left\", \"font\": {\"color\": \"#000000\"}, \"showarrow\": false, \"text\": \"MIT\", \"x\": -0.45, \"xanchor\": \"left\", \"xref\": \"x\", \"y\": 1, \"yref\": \"y\"}, {\"align\": \"left\", \"font\": {\"color\": \"#000000\"}, \"showarrow\": false, \"text\": \"94\", \"x\": 0.55, \"xanchor\": \"left\", \"xref\": \"x\", \"y\": 1, \"yref\": \"y\"}, {\"align\": \"left\", \"font\": {\"color\": \"#000000\"}, \"showarrow\": false, \"text\": \"152\", \"x\": 1.55, \"xanchor\": \"left\", \"xref\": \"x\", \"y\": 1, \"yref\": \"y\"}, {\"align\": \"left\", \"font\": {\"color\": \"#000000\"}, \"showarrow\": false, \"text\": \"58\", \"x\": 2.55, \"xanchor\": \"left\", \"xref\": \"x\", \"y\": 1, \"yref\": \"y\"}, {\"align\": \"left\", \"font\": {\"color\": \"#000000\"}, \"showarrow\": false, \"text\": \"Stanford\", \"x\": -0.45, \"xanchor\": \"left\", \"xref\": \"x\", \"y\": 2, \"yref\": \"y\"}, {\"align\": \"left\", \"font\": {\"color\": \"#000000\"}, \"showarrow\": false, \"text\": \"96\", \"x\": 0.55, \"xanchor\": \"left\", \"xref\": \"x\", \"y\": 2, \"yref\": \"y\"}, {\"align\": \"left\", \"font\": {\"color\": \"#000000\"}, \"showarrow\": false, \"text\": \"151\", \"x\": 1.55, \"xanchor\": \"left\", \"xref\": \"x\", \"y\": 2, \"yref\": \"y\"}, {\"align\": \"left\", \"font\": {\"color\": \"#000000\"}, \"showarrow\": false, \"text\": \"55\", \"x\": 2.55, \"xanchor\": \"left\", \"xref\": \"x\", \"y\": 2, \"yref\": \"y\"}, {\"align\": \"left\", \"font\": {\"color\": \"#000000\"}, \"showarrow\": false, \"text\": \"Harvard\", \"x\": -0.45, \"xanchor\": \"left\", \"xref\": \"x\", \"y\": 3, \"yref\": \"y\"}, {\"align\": \"left\", \"font\": {\"color\": \"#000000\"}, \"showarrow\": false, \"text\": \"112\", \"x\": 0.55, \"xanchor\": \"left\", \"xref\": \"x\", \"y\": 3, \"yref\": \"y\"}, {\"align\": \"left\", \"font\": {\"color\": \"#000000\"}, \"showarrow\": false, \"text\": \"165\", \"x\": 1.55, \"xanchor\": \"left\", \"xref\": \"x\", \"y\": 3, \"yref\": \"y\"}, {\"align\": \"left\", \"font\": {\"color\": \"#000000\"}, \"showarrow\": false, \"text\": \"53\", \"x\": 2.55, \"xanchor\": \"left\", \"xref\": \"x\", \"y\": 3, \"yref\": \"y\"}, {\"align\": \"left\", \"font\": {\"color\": \"#000000\"}, \"showarrow\": false, \"text\": \"U.Penn\", \"x\": -0.45, \"xanchor\": \"left\", \"xref\": \"x\", \"y\": 4, \"yref\": \"y\"}, {\"align\": \"left\", \"font\": {\"color\": \"#000000\"}, \"showarrow\": false, \"text\": \"92\", \"x\": 0.55, \"xanchor\": \"left\", \"xref\": \"x\", \"y\": 4, \"yref\": \"y\"}, {\"align\": \"left\", \"font\": {\"color\": \"#000000\"}, \"showarrow\": false, \"text\": \"141\", \"x\": 1.55, \"xanchor\": \"left\", \"xref\": \"x\", \"y\": 4, \"yref\": \"y\"}, {\"align\": \"left\", \"font\": {\"color\": \"#000000\"}, \"showarrow\": false, \"text\": \"49\", \"x\": 2.55, \"xanchor\": \"left\", \"xref\": \"x\", \"y\": 4, \"yref\": \"y\"}, {\"align\": \"left\", \"font\": {\"color\": \"#000000\"}, \"showarrow\": false, \"text\": \"Princeton\", \"x\": -0.45, \"xanchor\": \"left\", \"xref\": \"x\", \"y\": 5, \"yref\": \"y\"}, {\"align\": \"left\", \"font\": {\"color\": \"#000000\"}, \"showarrow\": false, \"text\": \"90\", \"x\": 0.55, \"xanchor\": \"left\", \"xref\": \"x\", \"y\": 5, \"yref\": \"y\"}, {\"align\": \"left\", \"font\": {\"color\": \"#000000\"}, \"showarrow\": false, \"text\": \"137\", \"x\": 1.55, \"xanchor\": \"left\", \"xref\": \"x\", \"y\": 5, \"yref\": \"y\"}, {\"align\": \"left\", \"font\": {\"color\": \"#000000\"}, \"showarrow\": false, \"text\": \"47\", \"x\": 2.55, \"xanchor\": \"left\", \"xref\": \"x\", \"y\": 5, \"yref\": \"y\"}, {\"align\": \"left\", \"font\": {\"color\": \"#000000\"}, \"showarrow\": false, \"text\": \"Chicago\", \"x\": -0.45, \"xanchor\": \"left\", \"xref\": \"x\", \"y\": 6, \"yref\": \"y\"}, {\"align\": \"left\", \"font\": {\"color\": \"#000000\"}, \"showarrow\": false, \"text\": \"78\", \"x\": 0.55, \"xanchor\": \"left\", \"xref\": \"x\", \"y\": 6, \"yref\": \"y\"}, {\"align\": \"left\", \"font\": {\"color\": \"#000000\"}, \"showarrow\": false, \"text\": \"118\", \"x\": 1.55, \"xanchor\": \"left\", \"xref\": \"x\", \"y\": 6, \"yref\": \"y\"}, {\"align\": \"left\", \"font\": {\"color\": \"#000000\"}, \"showarrow\": false, \"text\": \"40\", \"x\": 2.55, \"xanchor\": \"left\", \"xref\": \"x\", \"y\": 6, \"yref\": \"y\"}, {\"align\": \"left\", \"font\": {\"color\": \"#000000\"}, \"showarrow\": false, \"text\": \"Georgetown\", \"x\": -0.45, \"xanchor\": \"left\", \"xref\": \"x\", \"y\": 7, \"yref\": \"y\"}, {\"align\": \"left\", \"font\": {\"color\": \"#000000\"}, \"showarrow\": false, \"text\": \"94\", \"x\": 0.55, \"xanchor\": \"left\", \"xref\": \"x\", \"y\": 7, \"yref\": \"y\"}, {\"align\": \"left\", \"font\": {\"color\": \"#000000\"}, \"showarrow\": false, \"text\": \"131\", \"x\": 1.55, \"xanchor\": \"left\", \"xref\": \"x\", \"y\": 7, \"yref\": \"y\"}, {\"align\": \"left\", \"font\": {\"color\": \"#000000\"}, \"showarrow\": false, \"text\": \"37\", \"x\": 2.55, \"xanchor\": \"left\", \"xref\": \"x\", \"y\": 7, \"yref\": \"y\"}, {\"align\": \"left\", \"font\": {\"color\": \"#000000\"}, \"showarrow\": false, \"text\": \"Tufts\", \"x\": -0.45, \"xanchor\": \"left\", \"xref\": \"x\", \"y\": 8, \"yref\": \"y\"}, {\"align\": \"left\", \"font\": {\"color\": \"#000000\"}, \"showarrow\": false, \"text\": \"76\", \"x\": 0.55, \"xanchor\": \"left\", \"xref\": \"x\", \"y\": 8, \"yref\": \"y\"}, {\"align\": \"left\", \"font\": {\"color\": \"#000000\"}, \"showarrow\": false, \"text\": \"112\", \"x\": 1.55, \"xanchor\": \"left\", \"xref\": \"x\", \"y\": 8, \"yref\": \"y\"}, {\"align\": \"left\", \"font\": {\"color\": \"#000000\"}, \"showarrow\": false, \"text\": \"36\", \"x\": 2.55, \"xanchor\": \"left\", \"xref\": \"x\", \"y\": 8, \"yref\": \"y\"}, {\"align\": \"left\", \"font\": {\"color\": \"#000000\"}, \"showarrow\": false, \"text\": \"Yale\", \"x\": -0.45, \"xanchor\": \"left\", \"xref\": \"x\", \"y\": 9, \"yref\": \"y\"}, {\"align\": \"left\", \"font\": {\"color\": \"#000000\"}, \"showarrow\": false, \"text\": \"79\", \"x\": 0.55, \"xanchor\": \"left\", \"xref\": \"x\", \"y\": 9, \"yref\": \"y\"}, {\"align\": \"left\", \"font\": {\"color\": \"#000000\"}, \"showarrow\": false, \"text\": \"114\", \"x\": 1.55, \"xanchor\": \"left\", \"xref\": \"x\", \"y\": 9, \"yref\": \"y\"}, {\"align\": \"left\", \"font\": {\"color\": \"#000000\"}, \"showarrow\": false, \"text\": \"35\", \"x\": 2.55, \"xanchor\": \"left\", \"xref\": \"x\", \"y\": 9, \"yref\": \"y\"}, {\"align\": \"left\", \"font\": {\"color\": \"#000000\"}, \"showarrow\": false, \"text\": \"Columbia\", \"x\": -0.45, \"xanchor\": \"left\", \"xref\": \"x\", \"y\": 10, \"yref\": \"y\"}, {\"align\": \"left\", \"font\": {\"color\": \"#000000\"}, \"showarrow\": false, \"text\": \"86\", \"x\": 0.55, \"xanchor\": \"left\", \"xref\": \"x\", \"y\": 10, \"yref\": \"y\"}, {\"align\": \"left\", \"font\": {\"color\": \"#000000\"}, \"showarrow\": false, \"text\": \"119\", \"x\": 1.55, \"xanchor\": \"left\", \"xref\": \"x\", \"y\": 10, \"yref\": \"y\"}, {\"align\": \"left\", \"font\": {\"color\": \"#000000\"}, \"showarrow\": false, \"text\": \"33\", \"x\": 2.55, \"xanchor\": \"left\", \"xref\": \"x\", \"y\": 10, \"yref\": \"y\"}, {\"align\": \"left\", \"font\": {\"color\": \"#000000\"}, \"showarrow\": false, \"text\": \"Duke\", \"x\": -0.45, \"xanchor\": \"left\", \"xref\": \"x\", \"y\": 11, \"yref\": \"y\"}, {\"align\": \"left\", \"font\": {\"color\": \"#000000\"}, \"showarrow\": false, \"text\": \"93\", \"x\": 0.55, \"xanchor\": \"left\", \"xref\": \"x\", \"y\": 11, \"yref\": \"y\"}, {\"align\": \"left\", \"font\": {\"color\": \"#000000\"}, \"showarrow\": false, \"text\": \"124\", \"x\": 1.55, \"xanchor\": \"left\", \"xref\": \"x\", \"y\": 11, \"yref\": \"y\"}, {\"align\": \"left\", \"font\": {\"color\": \"#000000\"}, \"showarrow\": false, \"text\": \"31\", \"x\": 2.55, \"xanchor\": \"left\", \"xref\": \"x\", \"y\": 11, \"yref\": \"y\"}, {\"align\": \"left\", \"font\": {\"color\": \"#000000\"}, \"showarrow\": false, \"text\": \"Dartmouth\", \"x\": -0.45, \"xanchor\": \"left\", \"xref\": \"x\", \"y\": 12, \"yref\": \"y\"}, {\"align\": \"left\", \"font\": {\"color\": \"#000000\"}, \"showarrow\": false, \"text\": \"84\", \"x\": 0.55, \"xanchor\": \"left\", \"xref\": \"x\", \"y\": 12, \"yref\": \"y\"}, {\"align\": \"left\", \"font\": {\"color\": \"#000000\"}, \"showarrow\": false, \"text\": \"114\", \"x\": 1.55, \"xanchor\": \"left\", \"xref\": \"x\", \"y\": 12, \"yref\": \"y\"}, {\"align\": \"left\", \"font\": {\"color\": \"#000000\"}, \"showarrow\": false, \"text\": \"30\", \"x\": 2.55, \"xanchor\": \"left\", \"xref\": \"x\", \"y\": 12, \"yref\": \"y\"}, {\"align\": \"left\", \"font\": {\"color\": \"#000000\"}, \"showarrow\": false, \"text\": \"NYU\", \"x\": -0.45, \"xanchor\": \"left\", \"xref\": \"x\", \"y\": 13, \"yref\": \"y\"}, {\"align\": \"left\", \"font\": {\"color\": \"#000000\"}, \"showarrow\": false, \"text\": \"67\", \"x\": 0.55, \"xanchor\": \"left\", \"xref\": \"x\", \"y\": 13, \"yref\": \"y\"}, {\"align\": \"left\", \"font\": {\"color\": \"#000000\"}, \"showarrow\": false, \"text\": \"94\", \"x\": 1.55, \"xanchor\": \"left\", \"xref\": \"x\", \"y\": 13, \"yref\": \"y\"}, {\"align\": \"left\", \"font\": {\"color\": \"#000000\"}, \"showarrow\": false, \"text\": \"27\", \"x\": 2.55, \"xanchor\": \"left\", \"xref\": \"x\", \"y\": 13, \"yref\": \"y\"}, {\"align\": \"left\", \"font\": {\"color\": \"#000000\"}, \"showarrow\": false, \"text\": \"Notre Dame\", \"x\": -0.45, \"xanchor\": \"left\", \"xref\": \"x\", \"y\": 14, \"yref\": \"y\"}, {\"align\": \"left\", \"font\": {\"color\": \"#000000\"}, \"showarrow\": false, \"text\": \"73\", \"x\": 0.55, \"xanchor\": \"left\", \"xref\": \"x\", \"y\": 14, \"yref\": \"y\"}, {\"align\": \"left\", \"font\": {\"color\": \"#000000\"}, \"showarrow\": false, \"text\": \"100\", \"x\": 1.55, \"xanchor\": \"left\", \"xref\": \"x\", \"y\": 14, \"yref\": \"y\"}, {\"align\": \"left\", \"font\": {\"color\": \"#000000\"}, \"showarrow\": false, \"text\": \"27\", \"x\": 2.55, \"xanchor\": \"left\", \"xref\": \"x\", \"y\": 14, \"yref\": \"y\"}, {\"align\": \"left\", \"font\": {\"color\": \"#000000\"}, \"showarrow\": false, \"text\": \"Cornell\", \"x\": -0.45, \"xanchor\": \"left\", \"xref\": \"x\", \"y\": 15, \"yref\": \"y\"}, {\"align\": \"left\", \"font\": {\"color\": \"#000000\"}, \"showarrow\": false, \"text\": \"80\", \"x\": 0.55, \"xanchor\": \"left\", \"xref\": \"x\", \"y\": 15, \"yref\": \"y\"}, {\"align\": \"left\", \"font\": {\"color\": \"#000000\"}, \"showarrow\": false, \"text\": \"107\", \"x\": 1.55, \"xanchor\": \"left\", \"xref\": \"x\", \"y\": 15, \"yref\": \"y\"}, {\"align\": \"left\", \"font\": {\"color\": \"#000000\"}, \"showarrow\": false, \"text\": \"27\", \"x\": 2.55, \"xanchor\": \"left\", \"xref\": \"x\", \"y\": 15, \"yref\": \"y\"}, {\"align\": \"left\", \"font\": {\"color\": \"#000000\"}, \"showarrow\": false, \"text\": \"Michigan\", \"x\": -0.45, \"xanchor\": \"left\", \"xref\": \"x\", \"y\": 16, \"yref\": \"y\"}, {\"align\": \"left\", \"font\": {\"color\": \"#000000\"}, \"showarrow\": false, \"text\": \"62\", \"x\": 0.55, \"xanchor\": \"left\", \"xref\": \"x\", \"y\": 16, \"yref\": \"y\"}, {\"align\": \"left\", \"font\": {\"color\": \"#000000\"}, \"showarrow\": false, \"text\": \"84\", \"x\": 1.55, \"xanchor\": \"left\", \"xref\": \"x\", \"y\": 16, \"yref\": \"y\"}, {\"align\": \"left\", \"font\": {\"color\": \"#000000\"}, \"showarrow\": false, \"text\": \"22\", \"x\": 2.55, \"xanchor\": \"left\", \"xref\": \"x\", \"y\": 16, \"yref\": \"y\"}, {\"align\": \"left\", \"font\": {\"color\": \"#000000\"}, \"showarrow\": false, \"text\": \"Brown\", \"x\": -0.45, \"xanchor\": \"left\", \"xref\": \"x\", \"y\": 17, \"yref\": \"y\"}, {\"align\": \"left\", \"font\": {\"color\": \"#000000\"}, \"showarrow\": false, \"text\": \"72\", \"x\": 0.55, \"xanchor\": \"left\", \"xref\": \"x\", \"y\": 17, \"yref\": \"y\"}, {\"align\": \"left\", \"font\": {\"color\": \"#000000\"}, \"showarrow\": false, \"text\": \"92\", \"x\": 1.55, \"xanchor\": \"left\", \"xref\": \"x\", \"y\": 17, \"yref\": \"y\"}, {\"align\": \"left\", \"font\": {\"color\": \"#000000\"}, \"showarrow\": false, \"text\": \"20\", \"x\": 2.55, \"xanchor\": \"left\", \"xref\": \"x\", \"y\": 17, \"yref\": \"y\"}, {\"align\": \"left\", \"font\": {\"color\": \"#000000\"}, \"showarrow\": false, \"text\": \"Berkeley\", \"x\": -0.45, \"xanchor\": \"left\", \"xref\": \"x\", \"y\": 18, \"yref\": \"y\"}, {\"align\": \"left\", \"font\": {\"color\": \"#000000\"}, \"showarrow\": false, \"text\": \"71\", \"x\": 0.55, \"xanchor\": \"left\", \"xref\": \"x\", \"y\": 18, \"yref\": \"y\"}, {\"align\": \"left\", \"font\": {\"color\": \"#000000\"}, \"showarrow\": false, \"text\": \"88\", \"x\": 1.55, \"xanchor\": \"left\", \"xref\": \"x\", \"y\": 18, \"yref\": \"y\"}, {\"align\": \"left\", \"font\": {\"color\": \"#000000\"}, \"showarrow\": false, \"text\": \"17\", \"x\": 2.55, \"xanchor\": \"left\", \"xref\": \"x\", \"y\": 18, \"yref\": \"y\"}, {\"align\": \"left\", \"font\": {\"color\": \"#000000\"}, \"showarrow\": false, \"text\": \"Emory\", \"x\": -0.45, \"xanchor\": \"left\", \"xref\": \"x\", \"y\": 19, \"yref\": \"y\"}, {\"align\": \"left\", \"font\": {\"color\": \"#000000\"}, \"showarrow\": false, \"text\": \"68\", \"x\": 0.55, \"xanchor\": \"left\", \"xref\": \"x\", \"y\": 19, \"yref\": \"y\"}, {\"align\": \"left\", \"font\": {\"color\": \"#000000\"}, \"showarrow\": false, \"text\": \"82\", \"x\": 1.55, \"xanchor\": \"left\", \"xref\": \"x\", \"y\": 19, \"yref\": \"y\"}, {\"align\": \"left\", \"font\": {\"color\": \"#000000\"}, \"showarrow\": false, \"text\": \"14\", \"x\": 2.55, \"xanchor\": \"left\", \"xref\": \"x\", \"y\": 19, \"yref\": \"y\"}, {\"align\": \"left\", \"font\": {\"color\": \"#000000\"}, \"showarrow\": false, \"text\": \"UCLA\", \"x\": -0.45, \"xanchor\": \"left\", \"xref\": \"x\", \"y\": 20, \"yref\": \"y\"}, {\"align\": \"left\", \"font\": {\"color\": \"#000000\"}, \"showarrow\": false, \"text\": \"64\", \"x\": 0.55, \"xanchor\": \"left\", \"xref\": \"x\", \"y\": 20, \"yref\": \"y\"}, {\"align\": \"left\", \"font\": {\"color\": \"#000000\"}, \"showarrow\": false, \"text\": \"78\", \"x\": 1.55, \"xanchor\": \"left\", \"xref\": \"x\", \"y\": 20, \"yref\": \"y\"}, {\"align\": \"left\", \"font\": {\"color\": \"#000000\"}, \"showarrow\": false, \"text\": \"14\", \"x\": 2.55, \"xanchor\": \"left\", \"xref\": \"x\", \"y\": 20, \"yref\": \"y\"}, {\"align\": \"left\", \"font\": {\"color\": \"#000000\"}, \"showarrow\": false, \"text\": \"SoCal\", \"x\": -0.45, \"xanchor\": \"left\", \"xref\": \"x\", \"y\": 21, \"yref\": \"y\"}, {\"align\": \"left\", \"font\": {\"color\": \"#000000\"}, \"showarrow\": false, \"text\": \"72\", \"x\": 0.55, \"xanchor\": \"left\", \"xref\": \"x\", \"y\": 21, \"yref\": \"y\"}, {\"align\": \"left\", \"font\": {\"color\": \"#000000\"}, \"showarrow\": false, \"text\": \"81\", \"x\": 1.55, \"xanchor\": \"left\", \"xref\": \"x\", \"y\": 21, \"yref\": \"y\"}, {\"align\": \"left\", \"font\": {\"color\": \"#000000\"}, \"showarrow\": false, \"text\": \"9\", \"x\": 2.55, \"xanchor\": \"left\", \"xref\": \"x\", \"y\": 21, \"yref\": \"y\"}], \"height\": 710, \"margin\": {\"b\": 0, \"l\": 0, \"r\": 0, \"t\": 0}, \"xaxis\": {\"dtick\": 1, \"gridwidth\": 2, \"showticklabels\": false, \"tick0\": -0.5, \"ticks\": \"\", \"zeroline\": false}, \"yaxis\": {\"autorange\": \"reversed\", \"dtick\": 1, \"gridwidth\": 2, \"showticklabels\": false, \"tick0\": 0.5, \"ticks\": \"\", \"zeroline\": false}},\n",
       "            {\"showLink\": true, \"linkText\": \"Export to plot.ly\"}\n",
       "        ).then(function () {return Plotly.addFrames('f56cbf3f-099c-45a7-8a97-15b6be5cde9c',{});}).then(function(){Plotly.animate('f56cbf3f-099c-45a7-8a97-15b6be5cde9c');})\n",
       "        });</script>"
      ]
     },
     "metadata": {},
     "output_type": "display_data"
    }
   ],
   "source": [
    "iplot(table3, filename='jupyter-table1')"
   ]
  },
  {
   "cell_type": "code",
   "execution_count": 8,
   "metadata": {},
   "outputs": [
    {
     "data": {
      "application/vnd.plotly.v1+json": {
       "data": [
        {
         "marker": {
          "color": "#ffcdd2"
         },
         "name": "Women",
         "type": "bar",
         "uid": "5beb2fee-fdcd-11e8-bf13-c49ded18145b",
         "x": [
          "MIT",
          "Stanford",
          "Harvard",
          "U.Penn",
          "Princeton",
          "Chicago",
          "Georgetown",
          "Tufts",
          "Yale",
          "Columbia",
          "Duke",
          "Dartmouth",
          "NYU",
          "Notre Dame",
          "Cornell",
          "Michigan",
          "Brown",
          "Berkeley",
          "Emory",
          "UCLA",
          "SoCal"
         ],
         "y": [
          94,
          96,
          112,
          92,
          90,
          78,
          94,
          76,
          79,
          86,
          93,
          84,
          67,
          73,
          80,
          62,
          72,
          71,
          68,
          64,
          72
         ]
        },
        {
         "marker": {
          "color": "#A2D5F2"
         },
         "name": "Men",
         "type": "bar",
         "uid": "5beb2fef-fdcd-11e8-9264-c49ded18145b",
         "x": [
          "MIT",
          "Stanford",
          "Harvard",
          "U.Penn",
          "Princeton",
          "Chicago",
          "Georgetown",
          "Tufts",
          "Yale",
          "Columbia",
          "Duke",
          "Dartmouth",
          "NYU",
          "Notre Dame",
          "Cornell",
          "Michigan",
          "Brown",
          "Berkeley",
          "Emory",
          "UCLA",
          "SoCal"
         ],
         "y": [
          152,
          151,
          165,
          141,
          137,
          118,
          131,
          112,
          114,
          119,
          124,
          114,
          94,
          100,
          107,
          84,
          92,
          88,
          82,
          78,
          81
         ]
        },
        {
         "marker": {
          "color": "#59606D"
         },
         "name": "Gap",
         "type": "bar",
         "uid": "5beb2ff0-fdcd-11e8-b014-c49ded18145b",
         "x": [
          "MIT",
          "Stanford",
          "Harvard",
          "U.Penn",
          "Princeton",
          "Chicago",
          "Georgetown",
          "Tufts",
          "Yale",
          "Columbia",
          "Duke",
          "Dartmouth",
          "NYU",
          "Notre Dame",
          "Cornell",
          "Michigan",
          "Brown",
          "Berkeley",
          "Emory",
          "UCLA",
          "SoCal"
         ],
         "y": [
          58,
          55,
          53,
          49,
          47,
          40,
          37,
          36,
          35,
          33,
          31,
          30,
          27,
          27,
          27,
          22,
          20,
          17,
          14,
          14,
          9
         ]
        }
       ],
       "layout": {
        "title": "Average Earnings for Graduates",
        "xaxis": {
         "title": "School"
        },
        "yaxis": {
         "title": "Salary (in thousands)"
        }
       }
      },
      "text/html": [
       "<div id=\"f3966018-3cb0-4e57-9a30-e13b9187d00c\" style=\"height: 525px; width: 100%;\" class=\"plotly-graph-div\"></div><script type=\"text/javascript\">require([\"plotly\"], function(Plotly) { window.PLOTLYENV=window.PLOTLYENV || {};window.PLOTLYENV.BASE_URL=\"https://plot.ly\";\n",
       "        Plotly.plot(\n",
       "            'f3966018-3cb0-4e57-9a30-e13b9187d00c',\n",
       "            [{\"marker\": {\"color\": \"#ffcdd2\"}, \"name\": \"Women\", \"x\": [\"MIT\", \"Stanford\", \"Harvard\", \"U.Penn\", \"Princeton\", \"Chicago\", \"Georgetown\", \"Tufts\", \"Yale\", \"Columbia\", \"Duke\", \"Dartmouth\", \"NYU\", \"Notre Dame\", \"Cornell\", \"Michigan\", \"Brown\", \"Berkeley\", \"Emory\", \"UCLA\", \"SoCal\"], \"y\": [94.0, 96.0, 112.0, 92.0, 90.0, 78.0, 94.0, 76.0, 79.0, 86.0, 93.0, 84.0, 67.0, 73.0, 80.0, 62.0, 72.0, 71.0, 68.0, 64.0, 72.0], \"type\": \"bar\", \"uid\": \"5beb2fee-fdcd-11e8-bf13-c49ded18145b\"}, {\"marker\": {\"color\": \"#A2D5F2\"}, \"name\": \"Men\", \"x\": [\"MIT\", \"Stanford\", \"Harvard\", \"U.Penn\", \"Princeton\", \"Chicago\", \"Georgetown\", \"Tufts\", \"Yale\", \"Columbia\", \"Duke\", \"Dartmouth\", \"NYU\", \"Notre Dame\", \"Cornell\", \"Michigan\", \"Brown\", \"Berkeley\", \"Emory\", \"UCLA\", \"SoCal\"], \"y\": [152.0, 151.0, 165.0, 141.0, 137.0, 118.0, 131.0, 112.0, 114.0, 119.0, 124.0, 114.0, 94.0, 100.0, 107.0, 84.0, 92.0, 88.0, 82.0, 78.0, 81.0], \"type\": \"bar\", \"uid\": \"5beb2fef-fdcd-11e8-9264-c49ded18145b\"}, {\"marker\": {\"color\": \"#59606D\"}, \"name\": \"Gap\", \"x\": [\"MIT\", \"Stanford\", \"Harvard\", \"U.Penn\", \"Princeton\", \"Chicago\", \"Georgetown\", \"Tufts\", \"Yale\", \"Columbia\", \"Duke\", \"Dartmouth\", \"NYU\", \"Notre Dame\", \"Cornell\", \"Michigan\", \"Brown\", \"Berkeley\", \"Emory\", \"UCLA\", \"SoCal\"], \"y\": [58.0, 55.0, 53.0, 49.0, 47.0, 40.0, 37.0, 36.0, 35.0, 33.0, 31.0, 30.0, 27.0, 27.0, 27.0, 22.0, 20.0, 17.0, 14.0, 14.0, 9.0], \"type\": \"bar\", \"uid\": \"5beb2ff0-fdcd-11e8-b014-c49ded18145b\"}],\n",
       "            {\"title\": \"Average Earnings for Graduates\", \"xaxis\": {\"title\": \"School\"}, \"yaxis\": {\"title\": \"Salary (in thousands)\"}},\n",
       "            {\"showLink\": true, \"linkText\": \"Export to plot.ly\"}\n",
       "        ).then(function () {return Plotly.addFrames('f3966018-3cb0-4e57-9a30-e13b9187d00c',{});}).then(function(){Plotly.animate('f3966018-3cb0-4e57-9a30-e13b9187d00c');})\n",
       "        });</script>"
      ],
      "text/vnd.plotly.v1+html": [
       "<div id=\"f3966018-3cb0-4e57-9a30-e13b9187d00c\" style=\"height: 525px; width: 100%;\" class=\"plotly-graph-div\"></div><script type=\"text/javascript\">require([\"plotly\"], function(Plotly) { window.PLOTLYENV=window.PLOTLYENV || {};window.PLOTLYENV.BASE_URL=\"https://plot.ly\";\n",
       "        Plotly.plot(\n",
       "            'f3966018-3cb0-4e57-9a30-e13b9187d00c',\n",
       "            [{\"marker\": {\"color\": \"#ffcdd2\"}, \"name\": \"Women\", \"x\": [\"MIT\", \"Stanford\", \"Harvard\", \"U.Penn\", \"Princeton\", \"Chicago\", \"Georgetown\", \"Tufts\", \"Yale\", \"Columbia\", \"Duke\", \"Dartmouth\", \"NYU\", \"Notre Dame\", \"Cornell\", \"Michigan\", \"Brown\", \"Berkeley\", \"Emory\", \"UCLA\", \"SoCal\"], \"y\": [94.0, 96.0, 112.0, 92.0, 90.0, 78.0, 94.0, 76.0, 79.0, 86.0, 93.0, 84.0, 67.0, 73.0, 80.0, 62.0, 72.0, 71.0, 68.0, 64.0, 72.0], \"type\": \"bar\", \"uid\": \"5beb2fee-fdcd-11e8-bf13-c49ded18145b\"}, {\"marker\": {\"color\": \"#A2D5F2\"}, \"name\": \"Men\", \"x\": [\"MIT\", \"Stanford\", \"Harvard\", \"U.Penn\", \"Princeton\", \"Chicago\", \"Georgetown\", \"Tufts\", \"Yale\", \"Columbia\", \"Duke\", \"Dartmouth\", \"NYU\", \"Notre Dame\", \"Cornell\", \"Michigan\", \"Brown\", \"Berkeley\", \"Emory\", \"UCLA\", \"SoCal\"], \"y\": [152.0, 151.0, 165.0, 141.0, 137.0, 118.0, 131.0, 112.0, 114.0, 119.0, 124.0, 114.0, 94.0, 100.0, 107.0, 84.0, 92.0, 88.0, 82.0, 78.0, 81.0], \"type\": \"bar\", \"uid\": \"5beb2fef-fdcd-11e8-9264-c49ded18145b\"}, {\"marker\": {\"color\": \"#59606D\"}, \"name\": \"Gap\", \"x\": [\"MIT\", \"Stanford\", \"Harvard\", \"U.Penn\", \"Princeton\", \"Chicago\", \"Georgetown\", \"Tufts\", \"Yale\", \"Columbia\", \"Duke\", \"Dartmouth\", \"NYU\", \"Notre Dame\", \"Cornell\", \"Michigan\", \"Brown\", \"Berkeley\", \"Emory\", \"UCLA\", \"SoCal\"], \"y\": [58.0, 55.0, 53.0, 49.0, 47.0, 40.0, 37.0, 36.0, 35.0, 33.0, 31.0, 30.0, 27.0, 27.0, 27.0, 22.0, 20.0, 17.0, 14.0, 14.0, 9.0], \"type\": \"bar\", \"uid\": \"5beb2ff0-fdcd-11e8-b014-c49ded18145b\"}],\n",
       "            {\"title\": \"Average Earnings for Graduates\", \"xaxis\": {\"title\": \"School\"}, \"yaxis\": {\"title\": \"Salary (in thousands)\"}},\n",
       "            {\"showLink\": true, \"linkText\": \"Export to plot.ly\"}\n",
       "        ).then(function () {return Plotly.addFrames('f3966018-3cb0-4e57-9a30-e13b9187d00c',{});}).then(function(){Plotly.animate('f3966018-3cb0-4e57-9a30-e13b9187d00c');})\n",
       "        });</script>"
      ]
     },
     "metadata": {},
     "output_type": "display_data"
    }
   ],
   "source": [
    "trace_women = go.Bar(x=df3.School,\n",
    "                  y=df3.Women,\n",
    "                  name='Women',\n",
    "                  marker=dict(color='#ffcdd2'))\n",
    "\n",
    "trace_men = go.Bar(x=df3.School,\n",
    "                y=df3.Men,\n",
    "                name='Men',\n",
    "                marker=dict(color='#A2D5F2'))\n",
    "\n",
    "trace_gap = go.Bar(x=df3.School,\n",
    "                y=df3.Gap,\n",
    "                name='Gap',\n",
    "                marker=dict(color='#59606D'))\n",
    "\n",
    "data = [trace_women, trace_men, trace_gap]\n",
    "\n",
    "layout = go.Layout(title=\"Average Earnings for Graduates\",\n",
    "                xaxis=dict(title='School'),\n",
    "                yaxis=dict(title='Salary (in thousands)'))\n",
    "\n",
    "fig = go.Figure(data=data, layout=layout)\n",
    "\n",
    "iplot(fig,filename='jupyter-styled_bar')"
   ]
  },
  {
   "cell_type": "code",
   "execution_count": 9,
   "metadata": {},
   "outputs": [
    {
     "data": {
      "text/plain": [
       "Layout({\n",
       "    'title': 'Average Earnings for Graduates', 'xaxis': {'title': 'School'}, 'yaxis': {'title': 'Salary (in thousands)'}\n",
       "})"
      ]
     },
     "execution_count": 9,
     "metadata": {},
     "output_type": "execute_result"
    }
   ],
   "source": [
    "layout"
   ]
  },
  {
   "cell_type": "code",
   "execution_count": 10,
   "metadata": {},
   "outputs": [
    {
     "data": {
      "text/plain": [
       "Figure({\n",
       "    'data': [{'marker': {'color': '#ffcdd2'},\n",
       "              'name': 'Women',\n",
       "              'type': 'bar',\n",
       "              'uid': '5beb2fee-fdcd-11e8-bf13-c49ded18145b',\n",
       "              'x': array(['MIT', 'Stanford', 'Harvard', 'U.Penn', 'Princeton', 'Chicago',\n",
       "                          'Georgetown', 'Tufts', 'Yale', 'Columbia', 'Duke', 'Dartmouth', 'NYU',\n",
       "                          'Notre Dame', 'Cornell', 'Michigan', 'Brown', 'Berkeley', 'Emory',\n",
       "                          'UCLA', 'SoCal'], dtype=object),\n",
       "              'y': array([ 94.,  96., 112.,  92.,  90.,  78.,  94.,  76.,  79.,  86.,  93.,  84.,\n",
       "                           67.,  73.,  80.,  62.,  72.,  71.,  68.,  64.,  72.])},\n",
       "             {'marker': {'color': '#A2D5F2'},\n",
       "              'name': 'Men',\n",
       "              'type': 'bar',\n",
       "              'uid': '5beb2fef-fdcd-11e8-9264-c49ded18145b',\n",
       "              'x': array(['MIT', 'Stanford', 'Harvard', 'U.Penn', 'Princeton', 'Chicago',\n",
       "                          'Georgetown', 'Tufts', 'Yale', 'Columbia', 'Duke', 'Dartmouth', 'NYU',\n",
       "                          'Notre Dame', 'Cornell', 'Michigan', 'Brown', 'Berkeley', 'Emory',\n",
       "                          'UCLA', 'SoCal'], dtype=object),\n",
       "              'y': array([152., 151., 165., 141., 137., 118., 131., 112., 114., 119., 124., 114.,\n",
       "                           94., 100., 107.,  84.,  92.,  88.,  82.,  78.,  81.])},\n",
       "             {'marker': {'color': '#59606D'},\n",
       "              'name': 'Gap',\n",
       "              'type': 'bar',\n",
       "              'uid': '5beb2ff0-fdcd-11e8-b014-c49ded18145b',\n",
       "              'x': array(['MIT', 'Stanford', 'Harvard', 'U.Penn', 'Princeton', 'Chicago',\n",
       "                          'Georgetown', 'Tufts', 'Yale', 'Columbia', 'Duke', 'Dartmouth', 'NYU',\n",
       "                          'Notre Dame', 'Cornell', 'Michigan', 'Brown', 'Berkeley', 'Emory',\n",
       "                          'UCLA', 'SoCal'], dtype=object),\n",
       "              'y': array([58., 55., 53., 49., 47., 40., 37., 36., 35., 33., 31., 30., 27., 27.,\n",
       "                          27., 22., 20., 17., 14., 14.,  9.])}],\n",
       "    'layout': {'title': 'Average Earnings for Graduates',\n",
       "               'xaxis': {'title': 'School'},\n",
       "               'yaxis': {'title': 'Salary (in thousands)'}}\n",
       "})"
      ]
     },
     "execution_count": 10,
     "metadata": {},
     "output_type": "execute_result"
    }
   ],
   "source": [
    "fig"
   ]
  },
  {
   "cell_type": "code",
   "execution_count": null,
   "metadata": {
    "collapsed": true
   },
   "outputs": [],
   "source": []
  }
 ],
 "metadata": {
  "kernelspec": {
   "display_name": "Python 3",
   "language": "python",
   "name": "python3"
  },
  "language_info": {
   "codemirror_mode": {
    "name": "ipython",
    "version": 3
   },
   "file_extension": ".py",
   "mimetype": "text/x-python",
   "name": "python",
   "nbconvert_exporter": "python",
   "pygments_lexer": "ipython3",
   "version": "3.6.3"
  }
 },
 "nbformat": 4,
 "nbformat_minor": 2
}
