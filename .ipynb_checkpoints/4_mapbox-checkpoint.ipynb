{
 "cells": [
  {
   "cell_type": "code",
   "execution_count": 1,
   "metadata": {},
   "outputs": [
    {
     "data": {
      "text/html": [
       "<script>requirejs.config({paths: { 'plotly': ['https://cdn.plot.ly/plotly-latest.min']},});if(!window.Plotly) {{require(['plotly'],function(plotly) {window.Plotly=plotly;});}}</script>"
      ],
      "text/vnd.plotly.v1+html": [
       "<script>requirejs.config({paths: { 'plotly': ['https://cdn.plot.ly/plotly-latest.min']},});if(!window.Plotly) {{require(['plotly'],function(plotly) {window.Plotly=plotly;});}}</script>"
      ]
     },
     "metadata": {},
     "output_type": "display_data"
    }
   ],
   "source": [
    "import pandas as pd\n",
    "import plotly.graph_objs as go\n",
    "from plotly.offline import download_plotlyjs, init_notebook_mode, plot, iplot\n",
    "init_notebook_mode(connected=True)"
   ]
  },
  {
   "cell_type": "code",
   "execution_count": 2,
   "metadata": {},
   "outputs": [
    {
     "data": {
      "application/vnd.plotly.v1+json": {
       "data": [
        {
         "hoverinfo": "text",
         "lat": [
          35.888827299999996,
          39.503487299999996,
          44.6208218,
          40.641371,
          39.361063,
          39.9573541,
          41.672189,
          40.746102,
          35.8997249,
          42.841147,
          41.8881016,
          40.5376109,
          42.1542011,
          34.214928,
          38.6870307,
          38.6926197,
          37.872571,
          39.382248499999996,
          40.7087363,
          40.577768,
          41.7986843,
          40.4702797,
          43.2209056,
          36.0427296,
          41.4007898,
          42.9918367,
          41.7924797,
          42.540470299999996,
          40.9696277
         ],
         "lon": [
          -106.3050223,
          -84.7438586,
          -123.1209165,
          -80.242936,
          -84.54075,
          -83.0114552,
          -83.568625,
          -74.0066415,
          -106.29012709999999,
          -78.83406,
          -84.0164792,
          -79.7820937,
          -72.4997776,
          -105.8793205,
          -90.16736159999999,
          -90.16229,
          -122.256179,
          -84.5471105,
          -74.1012813,
          -74.49656440000001,
          -87.60693690000001,
          -74.47625409999999,
          -78.9737308,
          -84.2066525,
          -73.072232,
          -78.92010079999999,
          -87.60103609999999,
          -70.8888085,
          -74.2707793
         ],
         "marker": {
          "color": "rgb(255, 0, 0)",
          "opacity": 0.7,
          "size": 17
         },
         "mode": "markers",
         "text": [
          "Acid/Pueblo Canyon",
          "Alba Craft Shop",
          "\"Albany, Oregon, FUSRAP Site\"",
          "Aliquippa Forge",
          "Associated Aircraft Tool and Manufacturing Co.",
          "B & T Metals",
          "Baker Brothers",
          "Baker and Williams Warehouses",
          "\"Bayo Canyon, New Mexico, FUSRAP Site\"",
          "Bliss and Laughlin Steel",
          "Bridgeport Brass Co.",
          "C.H. Schnorr",
          "Chapman Valve",
          "\"Chupadera Mesa, New Mexico, FUSRAP Site\"",
          "\"Dow Chemical Co., Madison Site\"",
          "General Steel Industries",
          "\"Gilman Hall, University of California at Berkeley\"",
          "Hamilton OH Site",
          "Jersey City FUSRAP Site",
          "Middlesex North Site",
          "National Guard Armory",
          "\"New Brunswick, NJ, FUSRAP Site\"",
          "Niagara Falls Vicinity Properties",
          "\"Oak Ridge, TN, Warehouse Site\"",
          "Seymour Specialty Wire",
          "Tonawanda North FUSRAP Site",
          "University of Chicago Metallurgical Laboratory",
          "Ventron Corporation",
          "Wayne FUSRAP Site"
         ],
         "type": "scattermapbox",
         "uid": "b6ca6d80-ff07-11e8-b5b7-c49ded18145b"
        },
        {
         "hoverinfo": "none",
         "lat": [
          35.888827299999996,
          39.503487299999996,
          44.6208218,
          40.641371,
          39.361063,
          39.9573541,
          41.672189,
          40.746102,
          35.8997249,
          42.841147,
          41.8881016,
          40.5376109,
          42.1542011,
          34.214928,
          38.6870307,
          38.6926197,
          37.872571,
          39.382248499999996,
          40.7087363,
          40.577768,
          41.7986843,
          40.4702797,
          43.2209056,
          36.0427296,
          41.4007898,
          42.9918367,
          41.7924797,
          42.540470299999996,
          40.9696277
         ],
         "lon": [
          -106.3050223,
          -84.7438586,
          -123.1209165,
          -80.242936,
          -84.54075,
          -83.0114552,
          -83.568625,
          -74.0066415,
          -106.29012709999999,
          -78.83406,
          -84.0164792,
          -79.7820937,
          -72.4997776,
          -105.8793205,
          -90.16736159999999,
          -90.16229,
          -122.256179,
          -84.5471105,
          -74.1012813,
          -74.49656440000001,
          -87.60693690000001,
          -74.47625409999999,
          -78.9737308,
          -84.2066525,
          -73.072232,
          -78.92010079999999,
          -87.60103609999999,
          -70.8888085,
          -74.2707793
         ],
         "marker": {
          "color": "rgb(242, 177, 172)",
          "opacity": 0.7,
          "size": 8
         },
         "mode": "markers",
         "type": "scattermapbox",
         "uid": "b6ca6d81-ff07-11e8-bb32-c49ded18145b"
        }
       ],
       "layout": {
        "autosize": true,
        "hovermode": "closest",
        "mapbox": {
         "accesstoken": "pk.eyJ1IjoibmV0aGlrYSIsImEiOiJjanBrNHM0ZXcwMHRiM2tvOW15bW13eno4In0.fUBiNQkgjIhtGsXZ2Epwzg",
         "bearing": 0,
         "center": {
          "lat": 38,
          "lon": -94
         },
         "pitch": 0,
         "style": "light",
         "zoom": 3
        },
        "showlegend": false,
        "title": "Nuclear Waste Sites on Campus"
       }
      },
      "text/html": [
       "<div id=\"87c297a6-b539-452d-84fc-c803dca9bbfd\" style=\"height: 525px; width: 100%;\" class=\"plotly-graph-div\"></div><script type=\"text/javascript\">require([\"plotly\"], function(Plotly) { window.PLOTLYENV=window.PLOTLYENV || {};window.PLOTLYENV.BASE_URL=\"https://plot.ly\";Plotly.newPlot(\"87c297a6-b539-452d-84fc-c803dca9bbfd\", [{\"hoverinfo\": \"text\", \"lat\": [35.888827299999996, 39.503487299999996, 44.6208218, 40.641371, 39.361063, 39.9573541, 41.672189, 40.746102, 35.8997249, 42.841147, 41.8881016, 40.5376109, 42.1542011, 34.214928, 38.6870307, 38.6926197, 37.872571, 39.382248499999996, 40.7087363, 40.577768, 41.7986843, 40.4702797, 43.2209056, 36.0427296, 41.4007898, 42.9918367, 41.7924797, 42.540470299999996, 40.9696277], \"lon\": [-106.3050223, -84.7438586, -123.1209165, -80.242936, -84.54075, -83.0114552, -83.568625, -74.0066415, -106.29012709999999, -78.83406, -84.0164792, -79.7820937, -72.4997776, -105.8793205, -90.16736159999999, -90.16229, -122.256179, -84.5471105, -74.1012813, -74.49656440000001, -87.60693690000001, -74.47625409999999, -78.9737308, -84.2066525, -73.072232, -78.92010079999999, -87.60103609999999, -70.8888085, -74.2707793], \"marker\": {\"color\": \"rgb(255, 0, 0)\", \"opacity\": 0.7, \"size\": 17}, \"mode\": \"markers\", \"text\": [\"Acid/Pueblo Canyon\", \"Alba Craft Shop\", \"\\\"Albany, Oregon, FUSRAP Site\\\"\", \"Aliquippa Forge\", \"Associated Aircraft Tool and Manufacturing Co.\", \"B & T Metals\", \"Baker Brothers\", \"Baker and Williams Warehouses\", \"\\\"Bayo Canyon, New Mexico, FUSRAP Site\\\"\", \"Bliss and Laughlin Steel\", \"Bridgeport Brass Co.\", \"C.H. Schnorr\", \"Chapman Valve\", \"\\\"Chupadera Mesa, New Mexico, FUSRAP Site\\\"\", \"\\\"Dow Chemical Co., Madison Site\\\"\", \"General Steel Industries\", \"\\\"Gilman Hall, University of California at Berkeley\\\"\", \"Hamilton OH Site\", \"Jersey City FUSRAP Site\", \"Middlesex North Site\", \"National Guard Armory\", \"\\\"New Brunswick, NJ, FUSRAP Site\\\"\", \"Niagara Falls Vicinity Properties\", \"\\\"Oak Ridge, TN, Warehouse Site\\\"\", \"Seymour Specialty Wire\", \"Tonawanda North FUSRAP Site\", \"University of Chicago Metallurgical Laboratory\", \"Ventron Corporation\", \"Wayne FUSRAP Site\"], \"type\": \"scattermapbox\", \"uid\": \"b6ccdda2-ff07-11e8-acbe-c49ded18145b\"}, {\"hoverinfo\": \"none\", \"lat\": [35.888827299999996, 39.503487299999996, 44.6208218, 40.641371, 39.361063, 39.9573541, 41.672189, 40.746102, 35.8997249, 42.841147, 41.8881016, 40.5376109, 42.1542011, 34.214928, 38.6870307, 38.6926197, 37.872571, 39.382248499999996, 40.7087363, 40.577768, 41.7986843, 40.4702797, 43.2209056, 36.0427296, 41.4007898, 42.9918367, 41.7924797, 42.540470299999996, 40.9696277], \"lon\": [-106.3050223, -84.7438586, -123.1209165, -80.242936, -84.54075, -83.0114552, -83.568625, -74.0066415, -106.29012709999999, -78.83406, -84.0164792, -79.7820937, -72.4997776, -105.8793205, -90.16736159999999, -90.16229, -122.256179, -84.5471105, -74.1012813, -74.49656440000001, -87.60693690000001, -74.47625409999999, -78.9737308, -84.2066525, -73.072232, -78.92010079999999, -87.60103609999999, -70.8888085, -74.2707793], \"marker\": {\"color\": \"rgb(242, 177, 172)\", \"opacity\": 0.7, \"size\": 8}, \"mode\": \"markers\", \"type\": \"scattermapbox\", \"uid\": \"b6ccdda3-ff07-11e8-aa85-c49ded18145b\"}], {\"autosize\": true, \"hovermode\": \"closest\", \"mapbox\": {\"accesstoken\": \"pk.eyJ1IjoibmV0aGlrYSIsImEiOiJjanBrNHM0ZXcwMHRiM2tvOW15bW13eno4In0.fUBiNQkgjIhtGsXZ2Epwzg\", \"bearing\": 0, \"center\": {\"lat\": 38, \"lon\": -94}, \"pitch\": 0, \"style\": \"light\", \"zoom\": 3}, \"showlegend\": false, \"title\": \"Nuclear Waste Sites on Campus\"}, {\"showLink\": true, \"linkText\": \"Export to plot.ly\"})});</script>"
      ],
      "text/vnd.plotly.v1+html": [
       "<div id=\"87c297a6-b539-452d-84fc-c803dca9bbfd\" style=\"height: 525px; width: 100%;\" class=\"plotly-graph-div\"></div><script type=\"text/javascript\">require([\"plotly\"], function(Plotly) { window.PLOTLYENV=window.PLOTLYENV || {};window.PLOTLYENV.BASE_URL=\"https://plot.ly\";Plotly.newPlot(\"87c297a6-b539-452d-84fc-c803dca9bbfd\", [{\"hoverinfo\": \"text\", \"lat\": [35.888827299999996, 39.503487299999996, 44.6208218, 40.641371, 39.361063, 39.9573541, 41.672189, 40.746102, 35.8997249, 42.841147, 41.8881016, 40.5376109, 42.1542011, 34.214928, 38.6870307, 38.6926197, 37.872571, 39.382248499999996, 40.7087363, 40.577768, 41.7986843, 40.4702797, 43.2209056, 36.0427296, 41.4007898, 42.9918367, 41.7924797, 42.540470299999996, 40.9696277], \"lon\": [-106.3050223, -84.7438586, -123.1209165, -80.242936, -84.54075, -83.0114552, -83.568625, -74.0066415, -106.29012709999999, -78.83406, -84.0164792, -79.7820937, -72.4997776, -105.8793205, -90.16736159999999, -90.16229, -122.256179, -84.5471105, -74.1012813, -74.49656440000001, -87.60693690000001, -74.47625409999999, -78.9737308, -84.2066525, -73.072232, -78.92010079999999, -87.60103609999999, -70.8888085, -74.2707793], \"marker\": {\"color\": \"rgb(255, 0, 0)\", \"opacity\": 0.7, \"size\": 17}, \"mode\": \"markers\", \"text\": [\"Acid/Pueblo Canyon\", \"Alba Craft Shop\", \"\\\"Albany, Oregon, FUSRAP Site\\\"\", \"Aliquippa Forge\", \"Associated Aircraft Tool and Manufacturing Co.\", \"B & T Metals\", \"Baker Brothers\", \"Baker and Williams Warehouses\", \"\\\"Bayo Canyon, New Mexico, FUSRAP Site\\\"\", \"Bliss and Laughlin Steel\", \"Bridgeport Brass Co.\", \"C.H. Schnorr\", \"Chapman Valve\", \"\\\"Chupadera Mesa, New Mexico, FUSRAP Site\\\"\", \"\\\"Dow Chemical Co., Madison Site\\\"\", \"General Steel Industries\", \"\\\"Gilman Hall, University of California at Berkeley\\\"\", \"Hamilton OH Site\", \"Jersey City FUSRAP Site\", \"Middlesex North Site\", \"National Guard Armory\", \"\\\"New Brunswick, NJ, FUSRAP Site\\\"\", \"Niagara Falls Vicinity Properties\", \"\\\"Oak Ridge, TN, Warehouse Site\\\"\", \"Seymour Specialty Wire\", \"Tonawanda North FUSRAP Site\", \"University of Chicago Metallurgical Laboratory\", \"Ventron Corporation\", \"Wayne FUSRAP Site\"], \"type\": \"scattermapbox\", \"uid\": \"b6ccdda2-ff07-11e8-acbe-c49ded18145b\"}, {\"hoverinfo\": \"none\", \"lat\": [35.888827299999996, 39.503487299999996, 44.6208218, 40.641371, 39.361063, 39.9573541, 41.672189, 40.746102, 35.8997249, 42.841147, 41.8881016, 40.5376109, 42.1542011, 34.214928, 38.6870307, 38.6926197, 37.872571, 39.382248499999996, 40.7087363, 40.577768, 41.7986843, 40.4702797, 43.2209056, 36.0427296, 41.4007898, 42.9918367, 41.7924797, 42.540470299999996, 40.9696277], \"lon\": [-106.3050223, -84.7438586, -123.1209165, -80.242936, -84.54075, -83.0114552, -83.568625, -74.0066415, -106.29012709999999, -78.83406, -84.0164792, -79.7820937, -72.4997776, -105.8793205, -90.16736159999999, -90.16229, -122.256179, -84.5471105, -74.1012813, -74.49656440000001, -87.60693690000001, -74.47625409999999, -78.9737308, -84.2066525, -73.072232, -78.92010079999999, -87.60103609999999, -70.8888085, -74.2707793], \"marker\": {\"color\": \"rgb(242, 177, 172)\", \"opacity\": 0.7, \"size\": 8}, \"mode\": \"markers\", \"type\": \"scattermapbox\", \"uid\": \"b6ccdda3-ff07-11e8-aa85-c49ded18145b\"}], {\"autosize\": true, \"hovermode\": \"closest\", \"mapbox\": {\"accesstoken\": \"pk.eyJ1IjoibmV0aGlrYSIsImEiOiJjanBrNHM0ZXcwMHRiM2tvOW15bW13eno4In0.fUBiNQkgjIhtGsXZ2Epwzg\", \"bearing\": 0, \"center\": {\"lat\": 38, \"lon\": -94}, \"pitch\": 0, \"style\": \"light\", \"zoom\": 3}, \"showlegend\": false, \"title\": \"Nuclear Waste Sites on Campus\"}, {\"showLink\": true, \"linkText\": \"Export to plot.ly\"})});</script>"
      ]
     },
     "metadata": {},
     "output_type": "display_data"
    }
   ],
   "source": [
    "df4 = pd.read_csv('https://raw.githubusercontent.com/plotly/datasets/master/Nuclear%20Waste%20Sites%20on%20American%20Campuses.csv')\n",
    "site_lat = df4.lat\n",
    "site_lon = df4.lon\n",
    "locations_name = df4.text\n",
    "\n",
    "mapbox_access_token = \"pk.eyJ1IjoibmV0aGlrYSIsImEiOiJjanBrNHM0ZXcwMHRiM2tvOW15bW13eno4In0.fUBiNQkgjIhtGsXZ2Epwzg\"\n",
    "\n",
    "data = [\n",
    "    go.Scattermapbox(\n",
    "        lat=site_lat,\n",
    "        lon=site_lon,\n",
    "        mode='markers',\n",
    "        marker=dict(\n",
    "            size=17,\n",
    "            color='rgb(255, 0, 0)',\n",
    "            opacity=0.7\n",
    "        ),\n",
    "        text=locations_name,\n",
    "        hoverinfo='text'\n",
    "    ),\n",
    "    go.Scattermapbox(\n",
    "        lat=site_lat,\n",
    "        lon=site_lon,\n",
    "        mode='markers',\n",
    "        marker=dict(\n",
    "            size=8,\n",
    "            color='rgb(242, 177, 172)',\n",
    "            opacity=0.7\n",
    "        ),\n",
    "        hoverinfo='none'\n",
    "    )]\n",
    "\n",
    "\n",
    "layout = go.Layout(\n",
    "    title='Nuclear Waste Sites on Campus',\n",
    "    autosize=True,\n",
    "    hovermode='closest',\n",
    "    showlegend=False,\n",
    "    mapbox=dict(\n",
    "        accesstoken=mapbox_access_token,\n",
    "        bearing=0,\n",
    "        center=dict(\n",
    "            lat=38,\n",
    "            lon=-94\n",
    "        ),\n",
    "        pitch=0,\n",
    "        zoom=3,\n",
    "        style='light'\n",
    "    ),\n",
    ")\n",
    "\n",
    "fig = dict(data=data, layout=layout)\n",
    "\n",
    "iplot(fig, filename='jupyter-Nuclear Waste Sites on American Campuses')"
   ]
  },
  {
   "cell_type": "code",
   "execution_count": 3,
   "metadata": {},
   "outputs": [
    {
     "data": {
      "application/vnd.plotly.v1+json": {
       "data": [
        {
         "lat": [
          "38.91427",
          "38.91538",
          "38.91458",
          "38.92239",
          "38.93222",
          "38.90842",
          "38.91931",
          "38.93260",
          "38.91368",
          "38.88516",
          "38.921894",
          "38.93206",
          "38.91275"
         ],
         "lon": [
          "-77.02827",
          "-77.02013",
          "-77.03155",
          "-77.04227",
          "-77.02854",
          "-77.02419",
          "-77.02518",
          "-77.03304",
          "-77.04509",
          "-76.99656",
          "-77.042438",
          "-77.02821",
          "-77.01239"
         ],
         "marker": {
          "size": 9
         },
         "mode": "markers",
         "text": [
          "The coffee bar",
          "Bistro Bohem",
          "Black Cat",
          "Snap",
          "Columbia Heights Coffee",
          "Azi's Cafe",
          "Blind Dog Cafe",
          "Le Caprice",
          "Filter",
          "Peregrine",
          "Tryst",
          "The Coupe",
          "Big Bear Cafe"
         ],
         "type": "scattermapbox",
         "uid": "b6d5408a-ff07-11e8-a577-c49ded18145b"
        }
       ],
       "layout": {
        "autosize": true,
        "hovermode": "closest",
        "mapbox": {
         "accesstoken": "pk.eyJ1IjoibmV0aGlrYSIsImEiOiJjanBrNHM0ZXcwMHRiM2tvOW15bW13eno4In0.fUBiNQkgjIhtGsXZ2Epwzg",
         "bearing": 0,
         "center": {
          "lat": 38.92,
          "lon": -77.07
         },
         "pitch": 0,
         "zoom": 10
        }
       }
      },
      "text/html": [
       "<div id=\"f04f2b20-b75b-49df-aa9f-92d92bc51272\" style=\"height: 525px; width: 100%;\" class=\"plotly-graph-div\"></div><script type=\"text/javascript\">require([\"plotly\"], function(Plotly) { window.PLOTLYENV=window.PLOTLYENV || {};window.PLOTLYENV.BASE_URL=\"https://plot.ly\";Plotly.newPlot(\"f04f2b20-b75b-49df-aa9f-92d92bc51272\", [{\"lat\": [\"38.91427\", \"38.91538\", \"38.91458\", \"38.92239\", \"38.93222\", \"38.90842\", \"38.91931\", \"38.93260\", \"38.91368\", \"38.88516\", \"38.921894\", \"38.93206\", \"38.91275\"], \"lon\": [\"-77.02827\", \"-77.02013\", \"-77.03155\", \"-77.04227\", \"-77.02854\", \"-77.02419\", \"-77.02518\", \"-77.03304\", \"-77.04509\", \"-76.99656\", \"-77.042438\", \"-77.02821\", \"-77.01239\"], \"marker\": {\"size\": 9}, \"mode\": \"markers\", \"text\": [\"The coffee bar\", \"Bistro Bohem\", \"Black Cat\", \"Snap\", \"Columbia Heights Coffee\", \"Azi's Cafe\", \"Blind Dog Cafe\", \"Le Caprice\", \"Filter\", \"Peregrine\", \"Tryst\", \"The Coupe\", \"Big Bear Cafe\"], \"type\": \"scattermapbox\", \"uid\": \"b6d87640-ff07-11e8-90e9-c49ded18145b\"}], {\"autosize\": true, \"hovermode\": \"closest\", \"mapbox\": {\"accesstoken\": \"pk.eyJ1IjoibmV0aGlrYSIsImEiOiJjanBrNHM0ZXcwMHRiM2tvOW15bW13eno4In0.fUBiNQkgjIhtGsXZ2Epwzg\", \"bearing\": 0, \"center\": {\"lat\": 38.92, \"lon\": -77.07}, \"pitch\": 0, \"zoom\": 10}}, {\"showLink\": true, \"linkText\": \"Export to plot.ly\"})});</script>"
      ],
      "text/vnd.plotly.v1+html": [
       "<div id=\"f04f2b20-b75b-49df-aa9f-92d92bc51272\" style=\"height: 525px; width: 100%;\" class=\"plotly-graph-div\"></div><script type=\"text/javascript\">require([\"plotly\"], function(Plotly) { window.PLOTLYENV=window.PLOTLYENV || {};window.PLOTLYENV.BASE_URL=\"https://plot.ly\";Plotly.newPlot(\"f04f2b20-b75b-49df-aa9f-92d92bc51272\", [{\"lat\": [\"38.91427\", \"38.91538\", \"38.91458\", \"38.92239\", \"38.93222\", \"38.90842\", \"38.91931\", \"38.93260\", \"38.91368\", \"38.88516\", \"38.921894\", \"38.93206\", \"38.91275\"], \"lon\": [\"-77.02827\", \"-77.02013\", \"-77.03155\", \"-77.04227\", \"-77.02854\", \"-77.02419\", \"-77.02518\", \"-77.03304\", \"-77.04509\", \"-76.99656\", \"-77.042438\", \"-77.02821\", \"-77.01239\"], \"marker\": {\"size\": 9}, \"mode\": \"markers\", \"text\": [\"The coffee bar\", \"Bistro Bohem\", \"Black Cat\", \"Snap\", \"Columbia Heights Coffee\", \"Azi's Cafe\", \"Blind Dog Cafe\", \"Le Caprice\", \"Filter\", \"Peregrine\", \"Tryst\", \"The Coupe\", \"Big Bear Cafe\"], \"type\": \"scattermapbox\", \"uid\": \"b6d87640-ff07-11e8-90e9-c49ded18145b\"}], {\"autosize\": true, \"hovermode\": \"closest\", \"mapbox\": {\"accesstoken\": \"pk.eyJ1IjoibmV0aGlrYSIsImEiOiJjanBrNHM0ZXcwMHRiM2tvOW15bW13eno4In0.fUBiNQkgjIhtGsXZ2Epwzg\", \"bearing\": 0, \"center\": {\"lat\": 38.92, \"lon\": -77.07}, \"pitch\": 0, \"zoom\": 10}}, {\"showLink\": true, \"linkText\": \"Export to plot.ly\"})});</script>"
      ]
     },
     "metadata": {},
     "output_type": "display_data"
    }
   ],
   "source": [
    "data = [\n",
    "    go.Scattermapbox(\n",
    "        lat=['38.91427','38.91538','38.91458',\n",
    "             '38.92239','38.93222','38.90842',\n",
    "             '38.91931','38.93260','38.91368',\n",
    "             '38.88516','38.921894','38.93206',\n",
    "             '38.91275'],\n",
    "        lon=['-77.02827','-77.02013','-77.03155',\n",
    "             '-77.04227','-77.02854','-77.02419',\n",
    "             '-77.02518','-77.03304','-77.04509',\n",
    "             '-76.99656','-77.042438','-77.02821',\n",
    "             '-77.01239'],\n",
    "        mode='markers',\n",
    "        marker=dict(\n",
    "            size=9\n",
    "        ),\n",
    "        text=[\"The coffee bar\",\"Bistro Bohem\",\"Black Cat\",\n",
    "             \"Snap\",\"Columbia Heights Coffee\",\"Azi's Cafe\",\n",
    "             \"Blind Dog Cafe\",\"Le Caprice\",\"Filter\",\n",
    "             \"Peregrine\",\"Tryst\",\"The Coupe\",\n",
    "             \"Big Bear Cafe\"],\n",
    "    )\n",
    "]\n",
    "\n",
    "layout = go.Layout(\n",
    "    autosize=True,\n",
    "    hovermode='closest',\n",
    "    mapbox=dict(\n",
    "        accesstoken=mapbox_access_token,\n",
    "        bearing=0,\n",
    "        center=dict(\n",
    "            lat=38.92,\n",
    "            lon=-77.07\n",
    "        ),\n",
    "        pitch=0,\n",
    "        zoom=10\n",
    "    ),\n",
    ")\n",
    "\n",
    "fig = dict(data=data, layout=layout)\n",
    "iplot(fig, filename='Multiple Mapbox')"
   ]
  },
  {
   "cell_type": "code",
   "execution_count": null,
   "metadata": {
    "collapsed": true
   },
   "outputs": [],
   "source": []
  }
 ],
 "metadata": {
  "kernelspec": {
   "display_name": "Python 3",
   "language": "python",
   "name": "python3"
  },
  "language_info": {
   "codemirror_mode": {
    "name": "ipython",
    "version": 3
   },
   "file_extension": ".py",
   "mimetype": "text/x-python",
   "name": "python",
   "nbconvert_exporter": "python",
   "pygments_lexer": "ipython3",
   "version": "3.6.3"
  }
 },
 "nbformat": 4,
 "nbformat_minor": 2
}
